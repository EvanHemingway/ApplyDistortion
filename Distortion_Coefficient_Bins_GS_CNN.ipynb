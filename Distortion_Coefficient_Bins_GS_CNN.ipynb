{
 "cells": [
  {
   "cell_type": "markdown",
   "metadata": {
    "id": "x4HI2mpwlrcn"
   },
   "source": [
    "##### Copyright 2019 The TensorFlow Authors."
   ]
  },
  {
   "cell_type": "code",
   "execution_count": null,
   "metadata": {
    "cellView": "form",
    "id": "679Lmwt3l1Bk",
    "tags": []
   },
   "outputs": [],
   "source": [
    "#@title Licensed under the Apache License, Version 2.0 (the \"License\");\n",
    "# you may not use this file except in compliance with the License.\n",
    "# You may obtain a copy of the License at\n",
    "#\n",
    "# https://www.apache.org/licenses/LICENSE-2.0\n",
    "#\n",
    "# Unless required by applicable law or agreed to in writing, software\n",
    "# distributed under the License is distributed on an \"AS IS\" BASIS,\n",
    "# WITHOUT WARRANTIES OR CONDITIONS OF ANY KIND, either express or implied.\n",
    "# See the License for the specific language governing permissions and\n",
    "# limitations under the License."
   ]
  },
  {
   "cell_type": "markdown",
   "metadata": {
    "id": "DSPCom-KmApV"
   },
   "source": [
    "# Convolutional Neural Network (CNN)"
   ]
  },
  {
   "cell_type": "markdown",
   "metadata": {
    "id": "klAltGp8ycek"
   },
   "source": [
    "<table class=\"tfo-notebook-buttons\" align=\"left\">\n",
    "  <td>\n",
    "    <a target=\"_blank\" href=\"https://www.tensorflow.org/tutorials/images/cnn\">\n",
    "    <img src=\"https://www.tensorflow.org/images/tf_logo_32px.png\" />\n",
    "    View on TensorFlow.org</a>\n",
    "  </td>\n",
    "  <td>\n",
    "    <a target=\"_blank\" href=\"https://colab.research.google.com/github/tensorflow/docs/blob/master/site/en/tutorials/images/cnn.ipynb\">\n",
    "    <img src=\"https://www.tensorflow.org/images/colab_logo_32px.png\" />\n",
    "    Run in Google Colab</a>\n",
    "  </td>\n",
    "  <td>\n",
    "    <a target=\"_blank\" href=\"https://github.com/tensorflow/docs/blob/master/site/en/tutorials/images/cnn.ipynb\">\n",
    "    <img src=\"https://www.tensorflow.org/images/GitHub-Mark-32px.png\" />\n",
    "    View source on GitHub</a>\n",
    "  </td>\n",
    "  <td>\n",
    "    <a href=\"https://storage.googleapis.com/tensorflow_docs/docs/site/en/tutorials/images/cnn.ipynb\"><img src=\"https://www.tensorflow.org/images/download_logo_32px.png\" />Download notebook</a>\n",
    "  </td>\n",
    "</table>"
   ]
  },
  {
   "cell_type": "markdown",
   "metadata": {
    "id": "qLGkt5qiyz4E"
   },
   "source": [
    "This tutorial demonstrates training a simple [Convolutional Neural Network](https://developers.google.com/machine-learning/glossary/#convolutional_neural_network) (CNN) to classify [CIFAR images](https://www.cs.toronto.edu/~kriz/cifar.html). Because this tutorial uses the [Keras Sequential API](https://www.tensorflow.org/guide/keras/overview), creating and training your model will take just a few lines of code.\n"
   ]
  },
  {
   "cell_type": "markdown",
   "metadata": {
    "id": "m7KBpffWzlxH"
   },
   "source": [
    "### Import TensorFlow"
   ]
  },
  {
   "cell_type": "code",
   "execution_count": null,
   "metadata": {
    "id": "iAve6DCL4JH4",
    "tags": []
   },
   "outputs": [],
   "source": [
    "import tensorflow as tf\n",
    "\n",
    "from tensorflow.keras import datasets, layers, models\n",
    "\n",
    "import os\n",
    "\n",
    "import numpy as np\n",
    "from PIL import Image\n",
    "import fnmatch\n",
    "\n",
    "import matplotlib.pyplot as plt\n",
    "\n",
    "np.random.seed(42)\n"
   ]
  },
  {
   "cell_type": "markdown",
   "metadata": {
    "id": "jRFxccghyMVo"
   },
   "source": [
    "### Download and prepare the CIFAR10 dataset\n",
    "\n",
    "\n",
    "The CIFAR10 dataset contains 60,000 color images in 10 classes, with 6,000 images in each class. The dataset is divided into 50,000 training images and 10,000 testing images. The classes are mutually exclusive and there is no overlap between them."
   ]
  },
  {
   "cell_type": "code",
   "execution_count": null,
   "metadata": {},
   "outputs": [],
   "source": [
    "#\n",
    "\n",
    "from Distortion_Functions import load_distortion_data\n",
    "\n",
    "image_width = 240\n",
    "image_height = 320\n",
    "\n",
    "# directory\n",
    "dir_path = 'Training Set GS 1000 320x240'\n",
    "\n",
    "\n",
    "# dist_images, dist_labels, dist_values, dist_filenames = load_distortion_data(dir_path, image_width, image_height)\n",
    "\n",
    "dist_data = load_distortion_data(dir_path, image_width, image_height)\n",
    "\n",
    "dist_images = dist_data[\"dist_images\"]\n",
    "dist_labels = dist_data[\"dist_labels\"]\n",
    "dist_values = dist_data[\"dist_values\"]\n",
    "dist_filenames = dist_data[\"dist_filenames\"]\n"
   ]
  },
  {
   "cell_type": "code",
   "execution_count": null,
   "metadata": {},
   "outputs": [],
   "source": [
    "# Remove specified amount of undistorted images\n",
    "\n",
    "from Distortion_Functions import remove_data_by_label\n",
    "\n",
    "dist_data = remove_data_by_label(dist_data, 0, 401)\n",
    "\n"
   ]
  },
  {
   "cell_type": "code",
   "execution_count": null,
   "metadata": {},
   "outputs": [],
   "source": [
    "#\n",
    "\n",
    "from Distortion_Functions import bin_dist_values\n",
    "\n",
    "num_bins = 5\n",
    "\n",
    "dist_data = bin_dist_values(dist_data, num_bins, None, None, False)\n",
    "\n",
    "dist_value_bins = dist_data[\"dist_value_bins\"]\n",
    "\n",
    "# print(dist_values[:,0])\n",
    "\n",
    "# print(dist_value_bins[:,0])\n",
    "\n",
    "# dist_value_bins"
   ]
  },
  {
   "cell_type": "code",
   "execution_count": null,
   "metadata": {},
   "outputs": [],
   "source": [
    "#\n",
    "\n",
    "from Distortion_Functions import dist_train_test_split\n",
    "\n",
    "split_data = dist_train_test_split(dist_data, 0.8, 42)\n",
    "\n",
    "idx_train = split_data[\"idx_train\"]\n",
    "train_images = split_data[\"train_images\"]\n",
    "train_labels = split_data[\"train_labels\"]\n",
    "train_values = split_data[\"train_values\"]\n",
    "train_filenames = split_data[\"train_filenames\"]\n",
    "train_bins = split_data[\"train_bins\"]\n",
    "\n",
    "idx_test = split_data[\"idx_test\"]\n",
    "test_images = split_data[\"test_images\"]\n",
    "test_labels = split_data[\"test_labels\"]\n",
    "test_values = split_data[\"test_values\"]\n",
    "test_filenames = split_data[\"test_filenames\"]\n",
    "test_bins = split_data[\"test_bins\"]\n",
    "\n",
    "split_data.keys()\n"
   ]
  },
  {
   "cell_type": "markdown",
   "metadata": {
    "id": "7wArwCTJJlUa"
   },
   "source": [
    "### Verify the data\n",
    "\n",
    "To verify that the dataset looks correct, let's plot the first 25 images from the training set and display the class name below each image:\n"
   ]
  },
  {
   "cell_type": "code",
   "execution_count": null,
   "metadata": {},
   "outputs": [],
   "source": [
    "#\n",
    "\n",
    "class_names = ['undistorted', 'distorted']\n",
    "\n",
    "plt.figure(figsize=(18,18))\n",
    "for k1 in range(0,24):\n",
    "    plt.subplot(6,4,k1+1)\n",
    "    plt.xticks([])\n",
    "    plt.yticks([])\n",
    "    plt.grid(False)\n",
    "    plt.imshow(train_images[k1])\n",
    "    # The CIFAR labels happen to be arrays, \n",
    "    # which is why you need the extra index\n",
    "    # plt.xlabel(f\"{filenames[idx_train[k1]].split('.')[0]} : {class_names[train_labels[k1,0]]}\")\n",
    "    # plt.xlabel(f\"{idx_train[k1]} | {dist_filenames[idx_train[k1]].split('.')[0]} | {dist_values[idx_train[k1],0]} | {dist_value_bins[idx_train[k1],0]}\")\n",
    "    plt.xlabel(f\"{k1} | {train_filenames[k1].split('.')[0]} | {train_values[k1,0]} | {train_bins[k1,0]}\")\n",
    "plt.show()\n"
   ]
  },
  {
   "cell_type": "markdown",
   "metadata": {
    "id": "Oewp-wYg31t9"
   },
   "source": [
    "### Create the convolutional base"
   ]
  },
  {
   "cell_type": "markdown",
   "metadata": {
    "id": "3hQvqXpNyN3x"
   },
   "source": [
    "The 6 lines of code below define the convolutional base using a common pattern: a stack of [Conv2D](https://www.tensorflow.org/api_docs/python/tf/keras/layers/Conv2D) and [MaxPooling2D](https://www.tensorflow.org/api_docs/python/tf/keras/layers/MaxPool2D) layers.\n",
    "\n",
    "As input, a CNN takes tensors of shape (image_height, image_width, color_channels), ignoring the batch size. If you are new to these dimensions, color_channels refers to (R,G,B). In this example, you will configure your CNN to process inputs of shape (32, 32, 3), which is the format of CIFAR images. You can do this by passing the argument `input_shape` to your first layer.\n"
   ]
  },
  {
   "cell_type": "code",
   "execution_count": null,
   "metadata": {
    "id": "L9YmGQBQPrdn",
    "tags": []
   },
   "outputs": [],
   "source": [
    "# Create first model\n",
    "\n",
    "model_01 = models.Sequential()\n",
    "model_01.add(layers.Conv2D(32, (3, 3), activation='relu', input_shape=(dist_images.shape[1], dist_images.shape[2], 1)))\n",
    "model_01.add(layers.MaxPooling2D((2, 2)))\n",
    "model_01.add(layers.Conv2D(64, (3, 3), activation='relu'))\n",
    "model_01.add(layers.MaxPooling2D((2, 2)))\n",
    "model_01.add(layers.Conv2D(64, (3, 3), activation='relu'))\n",
    "\n",
    "model_01.add(layers.Flatten())\n",
    "model_01.add(layers.Dense(64, activation='relu'))\n",
    "model_01.add(layers.Dense(num_bins, activation='softmax'))\n",
    "# model_01.add(layers.Dense(1, activation='sigmoid'))\n",
    "\n",
    "model_01.summary()\n"
   ]
  },
  {
   "cell_type": "code",
   "execution_count": null,
   "metadata": {
    "id": "8-C4XBg4UTJy",
    "tags": []
   },
   "outputs": [],
   "source": [
    "# Compile and train first model\n",
    "\n",
    "# compile model\n",
    "model_01.compile(optimizer='adam', loss=tf.keras.losses.SparseCategoricalCrossentropy(from_logits=False), metrics=['accuracy'])\n",
    "\n",
    "# train model\n",
    "history = model_01.fit(train_images, train_bins, epochs=12, validation_data=(test_images, test_bins))\n"
   ]
  },
  {
   "cell_type": "markdown",
   "metadata": {
    "id": "jKgyC5K_4O0d"
   },
   "source": [
    "### Evaluate the model"
   ]
  },
  {
   "cell_type": "code",
   "execution_count": null,
   "metadata": {},
   "outputs": [],
   "source": [
    "# dir(history.model.history)\n",
    "\n",
    "# history.model.history"
   ]
  },
  {
   "cell_type": "code",
   "execution_count": null,
   "metadata": {
    "id": "gtyDF0MKUcM7",
    "tags": []
   },
   "outputs": [],
   "source": [
    "#\n",
    "\n",
    "fig1 = plt.figure(figsize=(12,6))\n",
    "# plt.plot(history.epoch,0.6*np.ones(len(history.epoch)),'k--')\n",
    "# plt.plot(history.epoch,0.7*np.ones(len(history.epoch)),'k--')\n",
    "# plt.plot(history.epoch,0.8*np.ones(len(history.epoch)),'k--')\n",
    "# plt.plot(history.epoch,0.9*np.ones(len(history.epoch)),'k--')\n",
    "# plt.plot(history.epoch,1.0*np.ones(len(history.epoch)),'k--')\n",
    "plt.plot(history.history['accuracy'], label='train accuracy')\n",
    "plt.plot(history.history['val_accuracy'], label = 'test accuracy')\n",
    "plt.xlabel('Epoch')\n",
    "plt.ylabel('Accuracy')\n",
    "plt.ylim([0.2, 1.2])\n",
    "plt.grid()\n",
    "plt.legend(loc='lower right')\n",
    "\n",
    "test_loss, test_acc = model_01.evaluate(test_images, test_bins, verbose=2)\n"
   ]
  },
  {
   "cell_type": "code",
   "execution_count": null,
   "metadata": {},
   "outputs": [],
   "source": [
    "# Look at output of model for single image\n",
    "\n",
    "kim = 24\n",
    "\n",
    "prediction = model_01.predict(test_images[kim].reshape(1,image_width,image_height))[0]\n",
    "print(f\"Model prediction for image {kim}:\")\n",
    "print(prediction)\n",
    "\n",
    "# apply classification using argmax to 0 or 1\n",
    "predicted_bins = np.argmax(prediction)\n",
    "\n",
    "# print(f\"Predicted bins for test image: {predicted_bins} | {class_names[predicted_bins]}\")\n",
    "print(f\"Predicted bins for test image: {predicted_bins}\")\n",
    "# print(predicted_bins)\n",
    "\n",
    "# print(f\"True class for terst image: {test_labels[kim,0]} | {class_names[test_labels[kim,0]]}\")\n",
    "print(f\"True class for test image: {test_bins[kim,0]}\")\n",
    "\n",
    "print(f\"Distortion value for test image: {test_values[kim,0]}\")\n",
    "# print(test_labels[kim,0].T)\n",
    "\n",
    "fig1 = plt.figure(figsize=(8,8))\n",
    "plt.imshow(test_images[kim])\n",
    "plt.xlabel(f\"{test_filenames[kim]} - Distortion Coefficient: {test_values[kim,0]} | Predicted label: {predicted_bins} | Actual label: {test_bins[kim,0]} | \")\n",
    "plt.show()\n"
   ]
  },
  {
   "cell_type": "code",
   "execution_count": null,
   "metadata": {},
   "outputs": [],
   "source": [
    "# Validate model accuracy\n",
    "\n",
    "# model prediction from test_images\n",
    "prediction = model_01.predict(test_images)\n",
    "# print(prediction)\n",
    "\n",
    "# apply classification using argmax to 0 or 1\n",
    "predicted_bins = np.argmax(prediction, axis=1)\n",
    "\n",
    "print(\"Predicted bins for test images:\")\n",
    "print(predicted_bins)\n",
    "\n",
    "print(\"Test image bins:\")\n",
    "print(test_bins[:,0].T)\n",
    "\n",
    "print(f\"Number of correct predictions out of number of test images: {np.sum(predicted_bins == test_bins[:,0])} / {len(test_bins)}\")\n",
    "# np.sum(predicted_bins == test_labels)\n",
    "\n",
    "print(f\"Model accuracy on test images: {np.sum(predicted_bins == test_bins[:,0]) / len(test_bins)}\")\n",
    "\n",
    "# wrong_idx = np.asarray(predicted_bins != test_labels[:,0], dtype=int)\n",
    "# wrong_idx = np.arange(0,len(wrong_idx))[wrong_idx == 1]\n",
    "\n",
    "wrong_idx = np.arange(0,len(test_images))[(predicted_bins != test_bins[:,0])]\n",
    "print(\"Indices for erroneous predictions\")\n",
    "print(wrong_idx)\n",
    "# print(\"Filenames for errorneous predictions\")\n",
    "# print(np.array(test_filenames)[wrong_idx])\n",
    "\n",
    "print(\"Distortion coefficients for erroneous predictions:\")\n",
    "print(test_values[wrong_idx,0])\n",
    "\n",
    "print(\"Distortion bins for erroneous predictions:\")\n",
    "print(test_bins[wrong_idx,0])\n",
    "\n",
    "print(\"Predicted bins for erroneous predictions:\")\n",
    "print(predicted_bins[wrong_idx])\n",
    "\n",
    "# print(f\"True negatives: {np.sum((predicted_bins == 0))} / {np.sum((test_labels[:,0] == 0))}\")\n",
    "# print(f\"True positives: {np.sum((predicted_bins == 1))} / {np.sum((test_labels[:,0] == 1))}\")\n",
    "\n",
    "# print(f\"True negatives: {np.sum((predicted_bins[und_idx] == 0))} / {np.sum((test_bins[:,0] == 0))}\")\n",
    "# print(f\"True positives: {np.sum((predicted_bins[dis_idx] == 1))} / {np.sum((test_bins[:,0] == 1))}\")\n",
    "# print(f\"False negatives: {np.sum((predicted_bins[dis_idx] == 0))} / {np.sum((test_bins[:,0] == 1))}\")\n",
    "# print(f\"False positives: {np.sum((predicted_bins[und_idx] == 1))} / {np.sum((test_bins[:,0] == 0))}\")\n",
    "\n",
    "fig1 = plt.figure(figsize=(12,4))\n",
    "counts, bins = np.histogram(test_bins[:,0], num_bins)#, (-0.5,3.5))\n",
    "plt.stairs(counts, bins)\n",
    "ax = plt.gca()\n",
    "for k1 in range(0,len(bins)-1):\n",
    "    ax.text(x=(bins[k1]+bins[k1+1])/2, y=counts[k1], s=counts[k1], va='center', ha='center', size='xx-large')\n",
    "plt.xlabel(\"Bin\")\n",
    "plt.ylabel(\"Number in bin\")\n",
    "plt.show()\n",
    "\n",
    "fig1 = plt.figure(figsize=(12,4))\n",
    "# counts, bins = np.histogram(dist_value_bins[:,0], num_bins, (0, num_bins))\n",
    "# print(bins)\n",
    "# print(counts)\n",
    "# plt.stairs(counts, bins)\n",
    "for k1 in range(0,np.max(test_bins[:,0])+1):\n",
    "    plt.plot(k1, np.sum(test_bins[:,0] == k1), \"b.\")\n",
    "plt.xlabel(\"Bin\")\n",
    "plt.ylabel(\"Number in bin\")\n",
    "plt.show()\n",
    "\n",
    "conf_matrix = np.zeros((num_bins,num_bins))\n",
    "for k1 in range(0,num_bins):\n",
    "    for k2 in range(0,num_bins):\n",
    "        temp_idx = (test_bins[:,0] == k1)\n",
    "        conf_matrix[k1,k2] = np.sum((predicted_bins[temp_idx] == k2))\n",
    "        \n",
    "print(\"Confusion Matrix:\")\n",
    "print(conf_matrix)\n",
    "\n",
    "# plot the confusion matrix using Matplotlib\n",
    "fig1, ax = plt.subplots(figsize=(8, 8))\n",
    "ax.matshow(conf_matrix, cmap=plt.cm.Blues, alpha=0.3)\n",
    "for k1 in range(conf_matrix.shape[0]):\n",
    "    for k2 in range(conf_matrix.shape[1]):\n",
    "        ax.text(x=k2, y=k1, s=conf_matrix[k1, k2], va='center', ha='center', size='xx-large')\n",
    "plt.xlabel('Predicted Values', fontsize=18)\n",
    "plt.ylabel('Actual Values', fontsize=18)\n",
    "plt.title('Confusion Matrix', fontsize=18)\n",
    "plt.show()\n"
   ]
  },
  {
   "cell_type": "code",
   "execution_count": null,
   "metadata": {},
   "outputs": [],
   "source": [
    "#####\n"
   ]
  },
  {
   "cell_type": "code",
   "execution_count": null,
   "metadata": {},
   "outputs": [],
   "source": [
    "# Create second model\n",
    "\n",
    "model_02 = models.Sequential()\n",
    "model_02.add(layers.Conv2D(32, (3, 3), activation='relu', input_shape=(dist_images.shape[1], dist_images.shape[2], 1)))\n",
    "model_02.add(layers.MaxPooling2D((2, 2)))\n",
    "model_02.add(layers.Conv2D(64, (3, 3), activation='relu'))\n",
    "model_02.add(layers.MaxPooling2D((2, 2)))\n",
    "model_02.add(layers.Conv2D(64, (3, 3), activation='relu'))\n",
    "\n",
    "model_02.add(layers.Flatten())\n",
    "model_02.add(layers.Dense(64, activation='relu'))\n",
    "model_02.add(layers.Dense(16, activation='relu'))\n",
    "model_02.add(layers.Dense(4, activation='relu'))\n",
    "model_02.add(layers.Dense(1, activation='relu'))\n",
    "\n",
    "model_02.summary()\n"
   ]
  },
  {
   "cell_type": "code",
   "execution_count": null,
   "metadata": {},
   "outputs": [],
   "source": [
    "# Compile and train first model\n",
    "\n",
    "# compile model\n",
    "model_02.compile(optimizer='sgd', loss=tf.keras.losses.MeanSquaredError(), metrics=[tf.keras.metrics.MeanSquaredError(), tf.keras.metrics.RootMeanSquaredError(), tf.keras.metrics.MeanAbsoluteError()])\n",
    "\n",
    "# train model\n",
    "history = model_02.fit(train_images, train_values, epochs=128, validation_data=(test_images, test_values))\n"
   ]
  },
  {
   "cell_type": "code",
   "execution_count": null,
   "metadata": {},
   "outputs": [],
   "source": []
  }
 ],
 "metadata": {
  "accelerator": "GPU",
  "colab": {
   "collapsed_sections": [],
   "name": "cnn.ipynb",
   "toc_visible": true
  },
  "kernelspec": {
   "display_name": "Python 3 (ipykernel)",
   "language": "python",
   "name": "python3"
  },
  "language_info": {
   "codemirror_mode": {
    "name": "ipython",
    "version": 3
   },
   "file_extension": ".py",
   "mimetype": "text/x-python",
   "name": "python",
   "nbconvert_exporter": "python",
   "pygments_lexer": "ipython3",
   "version": "3.10.8"
  }
 },
 "nbformat": 4,
 "nbformat_minor": 4
}
