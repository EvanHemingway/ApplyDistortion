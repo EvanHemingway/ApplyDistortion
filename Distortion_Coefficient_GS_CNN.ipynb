{
 "cells": [
  {
   "cell_type": "markdown",
   "metadata": {
    "id": "x4HI2mpwlrcn"
   },
   "source": [
    "##### Copyright 2019 The TensorFlow Authors."
   ]
  },
  {
   "cell_type": "code",
   "execution_count": null,
   "metadata": {
    "cellView": "form",
    "id": "679Lmwt3l1Bk",
    "tags": []
   },
   "outputs": [],
   "source": [
    "#@title Licensed under the Apache License, Version 2.0 (the \"License\");\n",
    "# you may not use this file except in compliance with the License.\n",
    "# You may obtain a copy of the License at\n",
    "#\n",
    "# https://www.apache.org/licenses/LICENSE-2.0\n",
    "#\n",
    "# Unless required by applicable law or agreed to in writing, software\n",
    "# distributed under the License is distributed on an \"AS IS\" BASIS,\n",
    "# WITHOUT WARRANTIES OR CONDITIONS OF ANY KIND, either express or implied.\n",
    "# See the License for the specific language governing permissions and\n",
    "# limitations under the License."
   ]
  },
  {
   "cell_type": "markdown",
   "metadata": {
    "id": "DSPCom-KmApV"
   },
   "source": [
    "# Convolutional Neural Network (CNN)"
   ]
  },
  {
   "cell_type": "markdown",
   "metadata": {
    "id": "klAltGp8ycek"
   },
   "source": [
    "<table class=\"tfo-notebook-buttons\" align=\"left\">\n",
    "  <td>\n",
    "    <a target=\"_blank\" href=\"https://www.tensorflow.org/tutorials/images/cnn\">\n",
    "    <img src=\"https://www.tensorflow.org/images/tf_logo_32px.png\" />\n",
    "    View on TensorFlow.org</a>\n",
    "  </td>\n",
    "  <td>\n",
    "    <a target=\"_blank\" href=\"https://colab.research.google.com/github/tensorflow/docs/blob/master/site/en/tutorials/images/cnn.ipynb\">\n",
    "    <img src=\"https://www.tensorflow.org/images/colab_logo_32px.png\" />\n",
    "    Run in Google Colab</a>\n",
    "  </td>\n",
    "  <td>\n",
    "    <a target=\"_blank\" href=\"https://github.com/tensorflow/docs/blob/master/site/en/tutorials/images/cnn.ipynb\">\n",
    "    <img src=\"https://www.tensorflow.org/images/GitHub-Mark-32px.png\" />\n",
    "    View source on GitHub</a>\n",
    "  </td>\n",
    "  <td>\n",
    "    <a href=\"https://storage.googleapis.com/tensorflow_docs/docs/site/en/tutorials/images/cnn.ipynb\"><img src=\"https://www.tensorflow.org/images/download_logo_32px.png\" />Download notebook</a>\n",
    "  </td>\n",
    "</table>"
   ]
  },
  {
   "cell_type": "markdown",
   "metadata": {
    "id": "qLGkt5qiyz4E"
   },
   "source": [
    "This tutorial demonstrates training a simple [Convolutional Neural Network](https://developers.google.com/machine-learning/glossary/#convolutional_neural_network) (CNN) to classify [CIFAR images](https://www.cs.toronto.edu/~kriz/cifar.html). Because this tutorial uses the [Keras Sequential API](https://www.tensorflow.org/guide/keras/overview), creating and training your model will take just a few lines of code.\n"
   ]
  },
  {
   "cell_type": "markdown",
   "metadata": {
    "id": "m7KBpffWzlxH"
   },
   "source": [
    "### Import TensorFlow"
   ]
  },
  {
   "cell_type": "code",
   "execution_count": null,
   "metadata": {
    "id": "iAve6DCL4JH4",
    "tags": []
   },
   "outputs": [],
   "source": [
    "import tensorflow as tf\n",
    "\n",
    "from tensorflow.keras import datasets, layers, models\n",
    "import matplotlib.pyplot as plt\n",
    "\n",
    "from PIL import Image\n",
    "import os\n",
    "\n",
    "import numpy as np\n",
    "\n",
    "import fnmatch\n"
   ]
  },
  {
   "cell_type": "markdown",
   "metadata": {
    "id": "jRFxccghyMVo"
   },
   "source": [
    "### Download and prepare the CIFAR10 dataset\n",
    "\n",
    "\n",
    "The CIFAR10 dataset contains 60,000 color images in 10 classes, with 6,000 images in each class. The dataset is divided into 50,000 training images and 10,000 testing images. The classes are mutually exclusive and there is no overlap between them."
   ]
  },
  {
   "cell_type": "code",
   "execution_count": null,
   "metadata": {
    "id": "JWoEqyMuXFF4",
    "tags": []
   },
   "outputs": [],
   "source": [
    "# (train_images, train_labels), (test_images, test_labels) = datasets.cifar10.load_data()\n",
    "\n",
    "# # Normalize pixel values to be between 0 and 1\n",
    "# train_images, test_images = train_images / 255.0, test_images / 255.0\n",
    "\n",
    "# train_images.shape\n",
    "\n",
    "# test_images.shape\n",
    "\n",
    "# train_labels.shape\n"
   ]
  },
  {
   "cell_type": "code",
   "execution_count": null,
   "metadata": {
    "tags": []
   },
   "outputs": [],
   "source": [
    "from Distortion_Functions import load_distortion_data\n",
    "\n",
    "image_width = 240\n",
    "image_height = 320\n",
    "\n",
    "# directory\n",
    "dir_path = 'Training Set GS 1000 320x240'\n",
    "\n",
    "\n",
    "# dist_images, dist_labels, dist_values, dist_filenames = load_distortion_data(dir_path, image_width, image_height)\n",
    "\n",
    "dist_data = load_distortion_data(dir_path, image_width, image_height)\n",
    "\n",
    "dist_images = dist_data[\"dist_images\"]\n",
    "dist_labels = dist_data[\"dist_labels\"]\n",
    "dist_values = dist_data[\"dist_values\"]\n",
    "dist_filenames = dist_data[\"dist_filenames\"]\n",
    "\n",
    "#\n",
    "max_dist_value = np.max(dist_values)\n",
    "dist_values = dist_values/max_dist_value\n",
    "dist_data[\"dist_values\"] = dist_values\n",
    "print(f\"Maximum value to normalize distortion values to: {max_dist_value}\")\n",
    "\n",
    "# print(dist_data[\"dist_images\"].shape)\n",
    "# print(dist_data[\"dist_labels\"].shape)\n",
    "# print(dist_data[\"dist_values\"].shape)\n",
    "# print(dist_data[\"dist_filenames\"].shape)\n",
    "\n"
   ]
  },
  {
   "cell_type": "code",
   "execution_count": null,
   "metadata": {},
   "outputs": [],
   "source": [
    "# Remove specified amount of undistorted images\n",
    "\n",
    "from Distortion_Functions import remove_data_by_label\n",
    "\n",
    "dist_data = remove_data_by_label(dist_data, 0, 400)\n"
   ]
  },
  {
   "cell_type": "code",
   "execution_count": null,
   "metadata": {},
   "outputs": [],
   "source": [
    "from Distortion_Functions import dist_train_test_split\n",
    "\n",
    "split_data = dist_train_test_split(dist_data, 0.8, 42)\n",
    "\n",
    "idx_train = split_data[\"idx_train\"]\n",
    "train_images = split_data[\"train_images\"]\n",
    "train_labels = split_data[\"train_labels\"]\n",
    "train_values = split_data[\"train_values\"]\n",
    "train_filenames = split_data[\"train_filenames\"]\n",
    "# train_bins = split_data[\"train_bins\"]\n",
    "\n",
    "idx_test = split_data[\"idx_test\"]\n",
    "test_images = split_data[\"test_images\"]\n",
    "test_labels = split_data[\"test_labels\"]\n",
    "test_values = split_data[\"test_values\"]\n",
    "test_filenames = split_data[\"test_filenames\"]\n",
    "# test_bins = split_data[\"test_bins\"]\n",
    "\n",
    "split_data.keys()\n"
   ]
  },
  {
   "cell_type": "markdown",
   "metadata": {
    "id": "7wArwCTJJlUa"
   },
   "source": [
    "### Verify the data\n",
    "\n",
    "To verify that the dataset looks correct, let's plot the first 25 images from the training set and display the class name below each image:\n"
   ]
  },
  {
   "cell_type": "code",
   "execution_count": null,
   "metadata": {},
   "outputs": [],
   "source": [
    "class_names = ['undistorted', 'distorted']\n",
    "\n",
    "plt.figure(figsize=(18,18))\n",
    "for k1 in range(0,24):\n",
    "    plt.subplot(6,4,k1+1)\n",
    "    plt.xticks([])\n",
    "    plt.yticks([])\n",
    "    plt.grid(False)\n",
    "    plt.imshow(train_images[k1])\n",
    "    # The CIFAR labels happen to be arrays,\n",
    "    # which is why you need the extra index\n",
    "    plt.xlabel(f\"{train_filenames[k1].split('.')[0]} | {class_names[train_labels[k1,0]]} | {train_values[k1,0]}\")\n",
    "plt.show()\n"
   ]
  },
  {
   "cell_type": "markdown",
   "metadata": {
    "id": "Oewp-wYg31t9"
   },
   "source": [
    "### Create the convolutional base"
   ]
  },
  {
   "cell_type": "markdown",
   "metadata": {
    "id": "3hQvqXpNyN3x"
   },
   "source": [
    "The 6 lines of code below define the convolutional base using a common pattern: a stack of [Conv2D](https://www.tensorflow.org/api_docs/python/tf/keras/layers/Conv2D) and [MaxPooling2D](https://www.tensorflow.org/api_docs/python/tf/keras/layers/MaxPool2D) layers.\n",
    "\n",
    "As input, a CNN takes tensors of shape (image_height, image_width, color_channels), ignoring the batch size. If you are new to these dimensions, color_channels refers to (R,G,B). In this example, you will configure your CNN to process inputs of shape (32, 32, 3), which is the format of CIFAR images. You can do this by passing the argument `input_shape` to your first layer.\n"
   ]
  },
  {
   "cell_type": "code",
   "execution_count": null,
   "metadata": {
    "id": "L9YmGQBQPrdn",
    "tags": []
   },
   "outputs": [],
   "source": [
    "# Create first model\n",
    "\n",
    "# model_01 = models.Sequential()\n",
    "# model_01.add(layers.Conv2D(32, (3, 3), activation='relu', input_shape=(dist_images.shape[1], dist_images.shape[2], 1)))\n",
    "# model_01.add(layers.MaxPooling2D((2, 2)))\n",
    "# model_01.add(layers.Conv2D(64, (3, 3), activation='relu'))\n",
    "# model_01.add(layers.MaxPooling2D((2, 2)))\n",
    "# model_01.add(layers.Conv2D(64, (3, 3), activation='relu'))\n",
    "\n",
    "# model_01.add(layers.Flatten())\n",
    "# model_01.add(layers.Dense(64, activation='relu'))\n",
    "# model_01.add(layers.Dense(16, activation='relu'))\n",
    "# model_01.add(layers.Dense(4, activation='relu'))\n",
    "# model_01.add(layers.Dense(1, activation='relu'))\n",
    "# # model_01.add(layers.Dense(1, activation='sigmoid'))\n",
    "\n",
    "# model_01.summary()\n",
    "\n",
    "model_01 = tf.keras.models.load_model('Saved_Models/Model_Distortion_Coefficient_MSE_20230105_128')\n",
    "\n",
    "model_01.summary()\n",
    "\n"
   ]
  },
  {
   "cell_type": "code",
   "execution_count": null,
   "metadata": {
    "id": "8-C4XBg4UTJy",
    "tags": []
   },
   "outputs": [],
   "source": [
    "# Compile and train first model\n",
    "\n",
    "# compile model\n",
    "model_01.compile(optimizer='sgd', loss=tf.keras.losses.MeanSquaredError(), metrics=[tf.keras.metrics.MeanSquaredError(), tf.keras.metrics.RootMeanSquaredError(), tf.keras.metrics.MeanAbsoluteError()])\n",
    "\n",
    "# train model\n",
    "history = model_01.fit(train_images, train_values, epochs=128, validation_data=(test_images, test_values))\n",
    "\n",
    "\n",
    "# model = my_model()\n",
    "# saver = tf.train.Saver()\n",
    "# with tf.Session() as sess:\n",
    "#     sess.run(init_op)\n",
    "#     for epoch in range(NUM_EPOCHS):\n",
    "#         for batch in range(NUM_BATCHES):\n",
    "\n",
    "#             # ... train your model ...\n",
    "\n",
    "#             if batch % VALIDATION_FREQUENCY == 0:\n",
    "#                 # Periodically test against a validation set.\n",
    "#                 error = sess.run(model.error, feed_dict=valid_dict)\n",
    "#                 if error < min_error:\n",
    "#                     min_error = error  # store your best error so far\n",
    "#                     saver.save(sess, MODEL_PATH)  # save the best-performing network so far\n",
    "\n",
    "# saver.restore(sess, MODEL_PATH)\n",
    "# test_error = sess.run(model.error, feed_dict=test_dict)\n",
    "\n"
   ]
  },
  {
   "cell_type": "markdown",
   "metadata": {
    "id": "jKgyC5K_4O0d"
   },
   "source": [
    "### Evaluate the model"
   ]
  },
  {
   "cell_type": "code",
   "execution_count": null,
   "metadata": {},
   "outputs": [],
   "source": [
    "# Calculate test data loss for model\n",
    "\n",
    "test_loss = model_01.evaluate(test_images, test_values, verbose=2)\n",
    "\n"
   ]
  },
  {
   "cell_type": "code",
   "execution_count": null,
   "metadata": {},
   "outputs": [],
   "source": [
    "history.history.keys()"
   ]
  },
  {
   "cell_type": "code",
   "execution_count": null,
   "metadata": {
    "id": "gtyDF0MKUcM7",
    "tags": []
   },
   "outputs": [],
   "source": [
    "#\n",
    "\n",
    "# keys = history.history.keys()\n",
    "# print(len(keys))\n",
    "\n",
    "# for key in history.history.keys():\n",
    "#     if \"val\" not in key:\n",
    "#         print(key)\n",
    "\n",
    "fig1 = plt.figure(figsize=(12,6))\n",
    "# plt.plot(history.epoch,0.6*np.ones(len(history.epoch)),'k--')\n",
    "# plt.plot(history.epoch,0.7*np.ones(len(history.epoch)),'k--')\n",
    "# plt.plot(history.epoch,0.8*np.ones(len(history.epoch)),'k--')\n",
    "# plt.plot(history.epoch,0.9*np.ones(len(history.epoch)),'k--')\n",
    "# plt.plot(history.epoch,1.0*np.ones(len(history.epoch)),'k--')\n",
    "plt.plot(history.history['loss'], label='train loss')\n",
    "plt.plot(history.history['val_loss'], label = 'test loss')\n",
    "plt.xlabel('Epoch')\n",
    "plt.ylabel('Loss')\n",
    "# plt.ylim([0.2, 1.2])\n",
    "plt.grid()\n",
    "plt.legend(loc='lower right')\n",
    "\n",
    "fig1, ax1 = plt.subplots(int(len(history.history.keys())/2), figsize=(16,12))\n",
    "for k1, key in enumerate(history.history.keys()):\n",
    "    if \"val\" not in key:\n",
    "        ax1[k1].plot(history.history[key], label=\"train \"+key)\n",
    "        ax1[k1].plot(history.history[\"val_\"+key], label=\"test \"+key)\n",
    "        ax1[k1].set_xlabel('Epoch')\n",
    "        ax1[k1].set_ylabel(key)\n",
    "        ax1[k1].grid()\n",
    "        ax1[k1].legend(loc='upper right')\n"
   ]
  },
  {
   "cell_type": "code",
   "execution_count": null,
   "metadata": {},
   "outputs": [],
   "source": [
    "# Look at output of model for single image\n",
    "\n",
    "kim = 30\n",
    "\n",
    "prediction = model_01.predict(test_images[kim].reshape(1,image_width,image_height))[0]\n",
    "print(f\"Model prediction for image {kim}:\")\n",
    "print(prediction*max_dist_value)\n",
    "\n",
    "# apply classification using argmax to 0 or 1\n",
    "predicted_value = prediction[0]*max_dist_value\n",
    "\n",
    "# print(f\"Predicted classes for test image: {predicted_class} | {class_names[predicted_class]}\")\n",
    "# print(f\"Predicted classes for test image: {predicted_class}\")\n",
    "# print(predicted_class)\n",
    "\n",
    "# print(f\"True class for terst image: {test_labels[kim,0]} | {class_names[test_labels[kim,0]]}\")\n",
    "print(f\"True value for test image: {test_values[kim,0]*max_dist_value}\")\n",
    "# print(test_labels[kim,0].T)\n",
    "\n",
    "fig1 = plt.figure(figsize=(8,8))\n",
    "plt.imshow(test_images[kim])\n",
    "plt.xlabel(f\"{test_filenames[kim]} - Predicted value: {predicted_value:0.4f} | Actual value: {test_values[kim,0]*max_dist_value}\")\n",
    "plt.show()\n"
   ]
  },
  {
   "cell_type": "code",
   "execution_count": null,
   "metadata": {},
   "outputs": [],
   "source": [
    "# Validate model accuracy\n",
    "\n",
    "# model prediction from test_images\n",
    "prediction = model_01.predict(test_images)\n",
    "# print(prediction)\n",
    "\n",
    "# apply classification using argmax to 0 or 1\n",
    "predicted_values = prediction[:,0]\n",
    "\n",
    "print(\"Predicted values for test images:\")\n",
    "print(predicted_values.T*max_dist_value)\n",
    "\n",
    "print(\"Actual values for test images:\")\n",
    "print(test_values[:,0].T*max_dist_value)\n",
    "\n",
    "# print(f\"Number of correct predictions out of number of test images: {np.sum(predicted_class == test_classes[:,0])} / {len(test_classes)}\")\n",
    "# # np.sum(predicted_class == test_labels)\n",
    "\n",
    "# print(f\"Model accuracy on test images: {np.sum(predicted_class == test_classes[:,0]) / len(test_classes)}\")\n",
    "\n",
    "# # wrong_idx = np.asarray(predicted_class != test_labels[:,0], dtype=int)\n",
    "# # wrong_idx = np.arange(0,len(wrong_idx))[wrong_idx == 1]\n",
    "\n",
    "# wrong_idx = np.arange(0,len(test_images))[(predicted_class != test_classes[:,0])]\n",
    "# print(\"Indices for erroneous predictions\")\n",
    "# print(wrong_idx)\n",
    "# print(\"Filenames for errorneous predictions\")\n",
    "# print(np.array(test_filenames)[wrong_idx])\n",
    "\n",
    "# und_idx = (test_classes[:,0] == 0)\n",
    "# dis_idx = (test_classes[:,0] == 1)\n",
    "\n",
    "idx_sorted = np.argsort(test_values[:,0])\n",
    "\n",
    "fig1 = plt.figure(figsize=(12,8))\n",
    "plt.plot(test_values[idx_sorted,0]*max_dist_value,\"b.\",label=\"actual values\")\n",
    "plt.plot(predicted_values[idx_sorted]*max_dist_value,\"ro\",label=\"predicted values\")\n",
    "plt.title(\"Predicted and Actual Distortion Values\")\n",
    "plt.legend()\n",
    "plt.show()\n",
    "\n",
    "\n",
    "fig1 = plt.figure(figsize=(12,8))\n",
    "plt.plot((predicted_values[idx_sorted] - test_values[idx_sorted,0])*max_dist_value,\"b.\",label=\"error\")\n",
    "# plt.plot(predicted_values*max_dist_value,\"ro\",label=\"predicted values\")\n",
    "plt.title(\"Prediction Error\")\n",
    "plt.legend()\n",
    "plt.show()\n",
    "\n",
    "# print(f\"True negatives: {np.sum((predicted_class == 0))} / {np.sum((test_labels[:,0] == 0))}\")\n",
    "# print(f\"True positives: {np.sum((predicted_class == 1))} / {np.sum((test_labels[:,0] == 1))}\")\n",
    "\n",
    "# print(f\"True negatives: {np.sum((predicted_class[und_idx] == 0))} / {np.sum((test_classes[:,0] == 0))}\")\n",
    "# print(f\"True positives: {np.sum((predicted_class[dis_idx] == 1))} / {np.sum((test_classes[:,0] == 1))}\")\n",
    "# print(f\"False negatives: {np.sum((predicted_class[dis_idx] == 0))} / {np.sum((test_classes[:,0] == 1))}\")\n",
    "# print(f\"False positives: {np.sum((predicted_class[und_idx] == 1))} / {np.sum((test_classes[:,0] == 0))}\")\n",
    "\n",
    "# conf_matrix = np.zeros((4,4))\n",
    "# for k1 in range(0,4):\n",
    "#     for k2 in range(0,4):\n",
    "#         conf_matrix[k1,k2] = np.sum(np.where((predicted_class == k2) == (test_classes[k1]))\n",
    "\n",
    "# conf_matrix = np.zeros((2,2))\n",
    "# conf_matrix[0,0] = np.sum((predicted_class[und_idx] == 0))\n",
    "# conf_matrix[0,1] = np.sum((predicted_class[und_idx] == 1))\n",
    "# conf_matrix[1,0] = np.sum((predicted_class[dis_idx] == 0))\n",
    "# conf_matrix[1,1] = np.sum((predicted_class[dis_idx] == 1))\n",
    "\n",
    "# # plot the confusion matrix using Matplotlib\n",
    "# fig, ax = plt.subplots(figsize=(8, 8))\n",
    "# ax.matshow(conf_matrix, cmap=plt.cm.Blues, alpha=0.3)\n",
    "# for k1 in range(conf_matrix.shape[0]):\n",
    "#     for k2 in range(conf_matrix.shape[1]):\n",
    "#         ax.text(x=k2, y=k1, s=conf_matrix[k1, k2], va='center', ha='center', size='xx-large')\n",
    "\n",
    "# plt.xlabel('Predicted Values', fontsize=18)\n",
    "# plt.ylabel('Actual Values', fontsize=18)\n",
    "# plt.title('Confusion Matrix', fontsize=18)\n",
    "# plt.show()\n"
   ]
  },
  {
   "cell_type": "code",
   "execution_count": null,
   "metadata": {},
   "outputs": [],
   "source": [
    "\n",
    "# model_01.save('./Saved_Models/Model_Distortion_Coefficient_MAE_20230105_128')\n"
   ]
  },
  {
   "cell_type": "code",
   "execution_count": null,
   "metadata": {},
   "outputs": [],
   "source": []
  }
 ],
 "metadata": {
  "accelerator": "GPU",
  "colab": {
   "collapsed_sections": [],
   "name": "cnn.ipynb",
   "toc_visible": true
  },
  "kernelspec": {
   "display_name": "Python 3 (ipykernel)",
   "language": "python",
   "name": "python3"
  },
  "language_info": {
   "codemirror_mode": {
    "name": "ipython",
    "version": 3
   },
   "file_extension": ".py",
   "mimetype": "text/x-python",
   "name": "python",
   "nbconvert_exporter": "python",
   "pygments_lexer": "ipython3",
   "version": "3.10.6"
  }
 },
 "nbformat": 4,
 "nbformat_minor": 4
}
