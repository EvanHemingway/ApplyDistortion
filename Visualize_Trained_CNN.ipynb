{
 "cells": [
  {
   "cell_type": "code",
   "execution_count": null,
   "metadata": {},
   "outputs": [],
   "source": [
    "import tensorflow as tf\n",
    "import keras\n",
    "\n",
    "loaded_model = tf.keras.models.load_model('C:/Users/ehemingway/Downloads/drive-download-20230110T185119Z-001/Model_Distortion_Coefficient_320x340_3x3_MSE_128_20230105')\n",
    "loaded_model.summary()"
   ]
  },
  {
   "cell_type": "code",
   "execution_count": null,
   "metadata": {},
   "outputs": [],
   "source": [
    "from keras.utils import plot_model\n",
    "plot_model(loaded_model,to_file='model.png')"
   ]
  },
  {
   "cell_type": "code",
   "execution_count": null,
   "metadata": {},
   "outputs": [],
   "source": [
    "from keras.models import Model\n",
    "\n",
    "inp = loaded_model.input                                  # input placeholder\n",
    "out = [layer.output for layer in loaded_model.layers]            # all layer outputs\n",
    "activation_model = Model(inputs=loaded_model.input, outputs=out)\n",
    "\n",
    "from PIL import Image\n",
    "import numpy as np\n",
    "\n",
    "imName = '0075_19'\n",
    "input_image = Image.open('Training Set GS 1000 320x240/'+imName+'.jpg')\n",
    "x = np.array(input_image)\n",
    "x = np.expand_dims(x,axis=0)\n",
    "x = x / 255.\n",
    "\n",
    "input_data = x\n",
    "activations = activation_model.predict(input_data)\n",
    "\n",
    "# Print the output of each layer\n",
    "for i, activation in enumerate(activations):\n",
    "    print(\"Layer {} output shape: {}\".format(i, activation.shape))\n"
   ]
  },
  {
   "cell_type": "code",
   "execution_count": null,
   "metadata": {},
   "outputs": [],
   "source": [
    "output_of_layer_0 = activations[0]\n",
    "output_of_layer_1 = activations[1]\n",
    "output_of_layer_2 = activations[2]\n",
    "output_of_layer_3 = activations[3]\n",
    "output_of_layer_4 = activations[4]\n",
    "import matplotlib.pyplot as plt\n",
    "import os\n",
    "curDir = os.getcwd()\n",
    "lowerDir = 'Convolutional First Layer Feature Maps for '+imName\n",
    "path = os.path.join(curDir,lowerDir)\n",
    "os.mkdir(path)\n",
    "for i in range(32):\n",
    "    img = Image.fromarray(output_of_layer_0[0,:,:,i]*255)\n",
    "    img = img.convert('L')\n",
    "    img = img.resize((1280,960))\n",
    "    img.save(path+'/'+str(i)+'.jpg')\n",
    "\n",
    "lowerDir = 'Convolutional Second Layer Feature Maps for '+imName\n",
    "path = os.path.join(curDir,lowerDir)\n",
    "os.mkdir(path)\n",
    "for i in range(64):\n",
    "    img = Image.fromarray(output_of_layer_2[0,:,:,i]*255)\n",
    "    img = img.convert('L')\n",
    "    img = img.resize((1280,960))\n",
    "    img.save(path+'/'+str(i)+'.jpg')\n",
    "\n",
    "lowerDir = 'Convolutional Third Layer Feature Maps for '+imName\n",
    "path = os.path.join(curDir,lowerDir)\n",
    "os.mkdir(path)\n",
    "for i in range(64):\n",
    "    img = Image.fromarray(output_of_layer_4[0,:,:,i]*255)\n",
    "    img = img.convert('L')\n",
    "    img = img.resize((1280,960))\n",
    "    img.save(path+'/'+str(i)+'.jpg')"
   ]
  },
  {
   "cell_type": "code",
   "execution_count": null,
   "metadata": {},
   "outputs": [],
   "source": [
    "output_of_layer_9 = activations[9]\n",
    "k = -output_of_layer_9\n",
    "\n",
    "import scipy\n",
    "\n",
    "xSuckInt = np.array([0]*320*240).reshape(240,320).astype(np.uint8)\n",
    "ySuckInt = np.array([0]*320*240).reshape(240,320).astype(np.uint8)\n",
    "c = 0\n",
    "for xOut in range(-160,160):\n",
    "    r = 0\n",
    "    for yOut in range(-120,120):\n",
    "        rOut = (xOut**2+yOut**2)**0.5/(120**2+160**2)**0.5\n",
    "        theta = np.arctan2(yOut,xOut)\n",
    "        rSuck = rOut*(1+k*rOut**2)\n",
    "        xSuck = rSuck*np.cos(theta)\n",
    "        ySuck = rSuck*np.sin(theta)\n",
    "        xSuckInt[r,c]=xSuck*160\n",
    "        ySuckInt[r,c]=ySuck*120\n",
    "        r = r + 1\n",
    "    c = c + 1\n",
    "\n",
    "undistortedIm = scipy.interpolate.interp2d(xSuckInt,ySuckInt,input_data[0,:,:])\n"
   ]
  },
  {
   "cell_type": "code",
   "execution_count": null,
   "metadata": {},
   "outputs": [],
   "source": [
    "imageUndistort = Image.fromarray(np.uint8(undistortedIm(xSuckInt.reshape(-1),ySuckInt.reshape(-1))*255),'L')"
   ]
  }
 ],
 "metadata": {
  "kernelspec": {
   "display_name": "spyder-env",
   "language": "python",
   "name": "python3"
  },
  "language_info": {
   "codemirror_mode": {
    "name": "ipython",
    "version": 3
   },
   "file_extension": ".py",
   "mimetype": "text/x-python",
   "name": "python",
   "nbconvert_exporter": "python",
   "pygments_lexer": "ipython3",
   "version": "3.10.8"
  },
  "orig_nbformat": 4,
  "vscode": {
   "interpreter": {
    "hash": "9e3716a979783467596032f64a29f1ed6c2dd5af33df55277eac0f35115b61cb"
   }
  }
 },
 "nbformat": 4,
 "nbformat_minor": 2
}
