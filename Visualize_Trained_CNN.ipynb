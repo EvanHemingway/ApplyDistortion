{
 "cells": [
  {
   "cell_type": "code",
   "execution_count": null,
   "metadata": {},
   "outputs": [],
   "source": [
    "import tensorflow as tf\n",
    "import keras\n",
    "from tensorflow.python.framework import graph_io\n",
    "from keras import backend as K\n",
    "\n",
    "loaded_model = tf.keras.models.load_model('C:/Users/ehemingway/Downloads/drive-download-20230110T185119Z-001/Model_Distortion_Coefficient_320x340_3x3_MSE_128_20230105')"
   ]
  },
  {
   "cell_type": "code",
   "execution_count": null,
   "metadata": {},
   "outputs": [],
   "source": [
    "loaded_model.summary()"
   ]
  },
  {
   "cell_type": "code",
   "execution_count": null,
   "metadata": {},
   "outputs": [],
   "source": [
    "from keras.utils import plot_model\n",
    "plot_model(loaded_model,to_file='model.png')"
   ]
  },
  {
   "cell_type": "code",
   "execution_count": null,
   "metadata": {},
   "outputs": [],
   "source": [
    "from keras import backend as K \n",
    "from keras.models import Model\n",
    "from PIL import Image\n",
    "import numpy as np\n",
    "\n",
    "inp = loaded_model.input                                  # input placeholder\n",
    "out = [layer.output for layer in loaded_model.layers]            # all layer outputs\n",
    "activation_model = Model(inputs=loaded_model.input, outputs=out)\n",
    "\n",
    "imName = '0355_18'\n",
    "input_image = Image.open('Training Set GS 1000 320x240/'+imName+'.jpg')\n",
    "x = np.array(input_image)\n",
    "x = np.expand_dims(x,axis=0)\n",
    "x = x / 255.\n",
    "\n",
    "input_data = x\n",
    "activations = activation_model.predict(input_data)\n",
    "\n",
    "# Print the output of each layer\n",
    "for i, activation in enumerate(activations):\n",
    "    print(\"Layer {} output shape: {}\".format(i, activation.shape))\n"
   ]
  },
  {
   "cell_type": "code",
   "execution_count": null,
   "metadata": {},
   "outputs": [],
   "source": [
    "output_of_layer_0 = activations[0]\n",
    "output_of_layer_1 = activations[1]\n",
    "output_of_layer_2 = activations[2]\n",
    "output_of_layer_3 = activations[3]\n",
    "output_of_layer_4 = activations[4]\n",
    "import matplotlib.pyplot as plt\n",
    "import os\n",
    "curDir = os.getcwd()\n",
    "lowerDir = 'First Convolutional Layer Filters for '+imName\n",
    "path = os.path.join(curDir,lowerDir)\n",
    "os.mkdir(path)\n",
    "for i in range(32):\n",
    "    img = Image.fromarray(output_of_layer_0[0,:,:,i]*255)\n",
    "    img = img.convert('L')\n",
    "    img.save(path+'/'+str(i)+'.jpg')\n",
    "\n",
    "lowerDir = 'Second Convolutional Layer Filters for '+imName\n",
    "path = os.path.join(curDir,lowerDir)\n",
    "os.mkdir(path)\n",
    "for i in range(64):\n",
    "    img = Image.fromarray(output_of_layer_2[0,:,:,i]*255)\n",
    "    img = img.convert('L')\n",
    "    img.save(path+'/'+str(i)+'.jpg')"
   ]
  },
  {
   "cell_type": "code",
   "execution_count": null,
   "metadata": {},
   "outputs": [],
   "source": [
    "img1 = output_of_layer_1[0,:,:,8]\n",
    "plt.imshow(img1,'gray')"
   ]
  },
  {
   "cell_type": "code",
   "execution_count": null,
   "metadata": {},
   "outputs": [],
   "source": [
    "img2 = output_of_layer_2[0,:,:,20]\n",
    "plt.imshow(img2,cmap='gray')"
   ]
  },
  {
   "cell_type": "code",
   "execution_count": null,
   "metadata": {},
   "outputs": [],
   "source": [
    "img3 = output_of_layer_3[0,:,:,10]\n",
    "plt.imshow(img3,cmap='gray')"
   ]
  },
  {
   "cell_type": "code",
   "execution_count": null,
   "metadata": {},
   "outputs": [],
   "source": [
    "img4 = output_of_layer_4[0,:,:,19]\n",
    "plt.imshow(img4, cmap='gray')"
   ]
  },
  {
   "cell_type": "code",
   "execution_count": null,
   "metadata": {},
   "outputs": [],
   "source": [
    "output_of_layer_8 = activations[8]\n",
    "output_of_layer_9 = activations[9]\n",
    "\n",
    "print(output_of_layer_8)\n",
    "print(output_of_layer_9)"
   ]
  }
 ],
 "metadata": {
  "kernelspec": {
   "display_name": "spyder-env",
   "language": "python",
   "name": "python3"
  },
  "language_info": {
   "codemirror_mode": {
    "name": "ipython",
    "version": 3
   },
   "file_extension": ".py",
   "mimetype": "text/x-python",
   "name": "python",
   "nbconvert_exporter": "python",
   "pygments_lexer": "ipython3",
   "version": "3.10.8"
  },
  "orig_nbformat": 4,
  "vscode": {
   "interpreter": {
    "hash": "9e3716a979783467596032f64a29f1ed6c2dd5af33df55277eac0f35115b61cb"
   }
  }
 },
 "nbformat": 4,
 "nbformat_minor": 2
}
