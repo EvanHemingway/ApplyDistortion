{
 "cells": [
  {
   "cell_type": "code",
   "execution_count": 1,
   "metadata": {},
   "outputs": [
    {
     "name": "stdout",
     "output_type": "stream",
     "text": [
      "Model: \"sequential\"\n",
      "_________________________________________________________________\n",
      " Layer (type)                Output Shape              Param #   \n",
      "=================================================================\n",
      " conv2d (Conv2D)             (None, 238, 318, 32)      320       \n",
      "                                                                 \n",
      " max_pooling2d (MaxPooling2D  (None, 119, 159, 32)     0         \n",
      " )                                                               \n",
      "                                                                 \n",
      " conv2d_1 (Conv2D)           (None, 117, 157, 64)      18496     \n",
      "                                                                 \n",
      " max_pooling2d_1 (MaxPooling  (None, 58, 78, 64)       0         \n",
      " 2D)                                                             \n",
      "                                                                 \n",
      " conv2d_2 (Conv2D)           (None, 56, 76, 64)        36928     \n",
      "                                                                 \n",
      " flatten (Flatten)           (None, 272384)            0         \n",
      "                                                                 \n",
      " dense (Dense)               (None, 64)                17432640  \n",
      "                                                                 \n",
      " dense_1 (Dense)             (None, 16)                1040      \n",
      "                                                                 \n",
      " dense_2 (Dense)             (None, 4)                 68        \n",
      "                                                                 \n",
      " dense_3 (Dense)             (None, 1)                 5         \n",
      "                                                                 \n",
      "=================================================================\n",
      "Total params: 17,489,497\n",
      "Trainable params: 17,489,497\n",
      "Non-trainable params: 0\n",
      "_________________________________________________________________\n"
     ]
    }
   ],
   "source": [
    "import tensorflow as tf\n",
    "import keras\n",
    "\n",
    "loaded_model = tf.keras.models.load_model('C:/Users/ehemingway/Downloads/drive-download-20230110T185119Z-001/Model_Distortion_Coefficient_320x340_3x3_MSE_128_20230105')\n",
    "loaded_model.summary()"
   ]
  },
  {
   "cell_type": "code",
   "execution_count": 2,
   "metadata": {},
   "outputs": [
    {
     "data": {
      "image/png": "[encoded data removed]",
      "text/plain": [
       "<IPython.core.display.Image object>"
      ]
     },
     "execution_count": 2,
     "metadata": {},
     "output_type": "execute_result"
    }
   ],
   "source": [
    "from keras.utils import plot_model\n",
    "plot_model(loaded_model,to_file='model.png')"
   ]
  },
  {
   "cell_type": "code",
   "execution_count": 4,
   "metadata": {},
   "outputs": [
    {
     "name": "stdout",
     "output_type": "stream",
     "text": [
      "1/1 [==============================] - 0s 211ms/step\n",
      "Layer 0 output shape: (1, 238, 318, 32)\n",
      "Layer 1 output shape: (1, 119, 159, 32)\n",
      "Layer 2 output shape: (1, 117, 157, 64)\n",
      "Layer 3 output shape: (1, 58, 78, 64)\n",
      "Layer 4 output shape: (1, 56, 76, 64)\n",
      "Layer 5 output shape: (1, 272384)\n",
      "Layer 6 output shape: (1, 64)\n",
      "Layer 7 output shape: (1, 16)\n",
      "Layer 8 output shape: (1, 4)\n",
      "Layer 9 output shape: (1, 1)\n"
     ]
    }
   ],
   "source": [
    "from keras.models import Model\n",
    "\n",
    "inp = loaded_model.input                                  # input placeholder\n",
    "out = [layer.output for layer in loaded_model.layers]            # all layer outputs\n",
    "activation_model = Model(inputs=loaded_model.input, outputs=out)\n",
    "\n",
    "from PIL import Image\n",
    "import numpy as np\n",
    "\n",
    "imName = '0075_19'\n",
    "input_image = Image.open('Training Set GS 1000 320x240/'+imName+'.jpg')\n",
    "x = np.array(input_image)\n",
    "x = np.expand_dims(x,axis=0)\n",
    "x = x / 255.\n",
    "\n",
    "input_data = x\n",
    "activations = activation_model.predict(input_data)\n",
    "\n",
    "# Print the output of each layer\n",
    "for i, activation in enumerate(activations):\n",
    "    print(\"Layer {} output shape: {}\".format(i, activation.shape))\n"
   ]
  },
  {
   "cell_type": "code",
   "execution_count": 5,
   "metadata": {},
   "outputs": [],
   "source": [
    "output_of_layer_0 = activations[0]\n",
    "output_of_layer_1 = activations[1]\n",
    "output_of_layer_2 = activations[2]\n",
    "output_of_layer_3 = activations[3]\n",
    "output_of_layer_4 = activations[4]\n",
    "import matplotlib.pyplot as plt\n",
    "import os\n",
    "curDir = os.getcwd()\n",
    "lowerDir = 'Convolutional First Layer Feature Maps for '+imName\n",
    "path = os.path.join(curDir,lowerDir)\n",
    "os.mkdir(path)\n",
    "for i in range(32):\n",
    "    img = Image.fromarray(output_of_layer_0[0,:,:,i]*255)\n",
    "    img = img.convert('L')\n",
    "    img = img.resize((1280,960))\n",
    "    img.save(path+'/'+str(i)+'.jpg')\n",
    "\n",
    "lowerDir = 'Convolutional Second Layer Feature Maps for '+imName\n",
    "path = os.path.join(curDir,lowerDir)\n",
    "os.mkdir(path)\n",
    "for i in range(64):\n",
    "    img = Image.fromarray(output_of_layer_2[0,:,:,i]*255)\n",
    "    img = img.convert('L')\n",
    "    img = img.resize((1280,960))\n",
    "    img.save(path+'/'+str(i)+'.jpg')\n",
    "\n",
    "lowerDir = 'Convolutional Third Layer Feature Maps for '+imName\n",
    "path = os.path.join(curDir,lowerDir)\n",
    "os.mkdir(path)\n",
    "for i in range(64):\n",
    "    img = Image.fromarray(output_of_layer_4[0,:,:,i]*255)\n",
    "    img = img.convert('L')\n",
    "    img = img.resize((1280,960))\n",
    "    img.save(path+'/'+str(i)+'.jpg')"
   ]
  },
  {
   "cell_type": "code",
   "execution_count": 6,
   "metadata": {},
   "outputs": [
    {
     "name": "stderr",
     "output_type": "stream",
     "text": [
      "c:\\Users\\ehemingway\\anaconda3\\envs\\spyder-env\\lib\\site-packages\\scipy\\interpolate\\_fitpack_impl.py:977: RuntimeWarning: No more knots can be added because the additional knot would\n",
      "coincide with an old one. Probable cause: s too small or too large\n",
      "a weight to an inaccurate data point. (fp>s)\n",
      "\tkx,ky=1,1 nx,ny=210,116 m=76800 fp=314.887646 s=0.000000\n",
      "  warnings.warn(RuntimeWarning(_iermess2[ierm][0] + _mess))\n"
     ]
    }
   ],
   "source": [
    "output_of_layer_9 = activations[9]\n",
    "k = -output_of_layer_9\n",
    "\n",
    "import scipy\n",
    "\n",
    "xSuckInt = np.array([0]*320*240).reshape(240,320).astype(np.uint8)\n",
    "ySuckInt = np.array([0]*320*240).reshape(240,320).astype(np.uint8)\n",
    "c = 0\n",
    "for xOut in range(-160,160):\n",
    "    r = 0\n",
    "    for yOut in range(-120,120):\n",
    "        rOut = (xOut**2+yOut**2)**0.5/(120**2+160**2)**0.5\n",
    "        theta = np.arctan2(yOut,xOut)\n",
    "        rSuck = rOut*(1+k*rOut**2)\n",
    "        xSuck = rSuck*np.cos(theta)\n",
    "        ySuck = rSuck*np.sin(theta)\n",
    "        xSuckInt[r,c]=xSuck*160\n",
    "        ySuckInt[r,c]=ySuck*120\n",
    "        r = r + 1\n",
    "    c = c + 1\n",
    "\n",
    "undistortedIm = scipy.interpolate.interp2d(xSuckInt,ySuckInt,input_data[0,:,:])\n"
   ]
  },
  {
   "cell_type": "code",
   "execution_count": 9,
   "metadata": {},
   "outputs": [
    {
     "ename": "RuntimeError",
     "evalue": "Cannot produce output of size 76800x76800 (size too large)",
     "output_type": "error",
     "traceback": [
      "\u001b[1;31m---------------------------------------------------------------------------\u001b[0m",
      "\u001b[1;31mRuntimeError\u001b[0m                              Traceback (most recent call last)",
      "\u001b[1;32m~\\AppData\\Local\\Temp\\ipykernel_39788\\2505425242.py\u001b[0m in \u001b[0;36m<module>\u001b[1;34m\u001b[0m\n\u001b[1;32m----> 1\u001b[1;33m \u001b[0mimageUndistort\u001b[0m \u001b[1;33m=\u001b[0m \u001b[0mImage\u001b[0m\u001b[1;33m.\u001b[0m\u001b[0mfromarray\u001b[0m\u001b[1;33m(\u001b[0m\u001b[0mnp\u001b[0m\u001b[1;33m.\u001b[0m\u001b[0muint8\u001b[0m\u001b[1;33m(\u001b[0m\u001b[0mundistortedIm\u001b[0m\u001b[1;33m(\u001b[0m\u001b[0mxSuckInt\u001b[0m\u001b[1;33m.\u001b[0m\u001b[0mreshape\u001b[0m\u001b[1;33m(\u001b[0m\u001b[1;33m-\u001b[0m\u001b[1;36m1\u001b[0m\u001b[1;33m)\u001b[0m\u001b[1;33m,\u001b[0m\u001b[0mySuckInt\u001b[0m\u001b[1;33m.\u001b[0m\u001b[0mreshape\u001b[0m\u001b[1;33m(\u001b[0m\u001b[1;33m-\u001b[0m\u001b[1;36m1\u001b[0m\u001b[1;33m)\u001b[0m\u001b[1;33m)\u001b[0m\u001b[1;33m*\u001b[0m\u001b[1;36m255\u001b[0m\u001b[1;33m)\u001b[0m\u001b[1;33m,\u001b[0m\u001b[1;34m'L'\u001b[0m\u001b[1;33m)\u001b[0m\u001b[1;33m\u001b[0m\u001b[1;33m\u001b[0m\u001b[0m\n\u001b[0m",
      "\u001b[1;32mc:\\Users\\ehemingway\\anaconda3\\envs\\spyder-env\\lib\\site-packages\\scipy\\interpolate\\_interpolate.py\u001b[0m in \u001b[0;36m__call__\u001b[1;34m(self, x, y, dx, dy, assume_sorted)\u001b[0m\n\u001b[0;32m    301\u001b[0m                                 (self.y_min, self.y_max)))\n\u001b[0;32m    302\u001b[0m \u001b[1;33m\u001b[0m\u001b[0m\n\u001b[1;32m--> 303\u001b[1;33m         \u001b[0mz\u001b[0m \u001b[1;33m=\u001b[0m \u001b[0m_fitpack_py\u001b[0m\u001b[1;33m.\u001b[0m\u001b[0mbisplev\u001b[0m\u001b[1;33m(\u001b[0m\u001b[0mx\u001b[0m\u001b[1;33m,\u001b[0m \u001b[0my\u001b[0m\u001b[1;33m,\u001b[0m \u001b[0mself\u001b[0m\u001b[1;33m.\u001b[0m\u001b[0mtck\u001b[0m\u001b[1;33m,\u001b[0m \u001b[0mdx\u001b[0m\u001b[1;33m,\u001b[0m \u001b[0mdy\u001b[0m\u001b[1;33m)\u001b[0m\u001b[1;33m\u001b[0m\u001b[1;33m\u001b[0m\u001b[0m\n\u001b[0m\u001b[0;32m    304\u001b[0m         \u001b[0mz\u001b[0m \u001b[1;33m=\u001b[0m \u001b[0matleast_2d\u001b[0m\u001b[1;33m(\u001b[0m\u001b[0mz\u001b[0m\u001b[1;33m)\u001b[0m\u001b[1;33m\u001b[0m\u001b[1;33m\u001b[0m\u001b[0m\n\u001b[0;32m    305\u001b[0m         \u001b[0mz\u001b[0m \u001b[1;33m=\u001b[0m \u001b[0mtranspose\u001b[0m\u001b[1;33m(\u001b[0m\u001b[0mz\u001b[0m\u001b[1;33m)\u001b[0m\u001b[1;33m\u001b[0m\u001b[1;33m\u001b[0m\u001b[0m\n",
      "\u001b[1;32mc:\\Users\\ehemingway\\anaconda3\\envs\\spyder-env\\lib\\site-packages\\scipy\\interpolate\\_fitpack_impl.py\u001b[0m in \u001b[0;36mbisplev\u001b[1;34m(x, y, tck, dx, dy)\u001b[0m\n\u001b[0;32m   1050\u001b[0m     \u001b[1;32mif\u001b[0m \u001b[1;33m(\u001b[0m\u001b[0mlen\u001b[0m\u001b[1;33m(\u001b[0m\u001b[0mx\u001b[0m\u001b[1;33m.\u001b[0m\u001b[0mshape\u001b[0m\u001b[1;33m)\u001b[0m \u001b[1;33m!=\u001b[0m \u001b[1;36m1\u001b[0m\u001b[1;33m)\u001b[0m \u001b[1;32mor\u001b[0m \u001b[1;33m(\u001b[0m\u001b[0mlen\u001b[0m\u001b[1;33m(\u001b[0m\u001b[0my\u001b[0m\u001b[1;33m.\u001b[0m\u001b[0mshape\u001b[0m\u001b[1;33m)\u001b[0m \u001b[1;33m!=\u001b[0m \u001b[1;36m1\u001b[0m\u001b[1;33m)\u001b[0m\u001b[1;33m:\u001b[0m\u001b[1;33m\u001b[0m\u001b[1;33m\u001b[0m\u001b[0m\n\u001b[0;32m   1051\u001b[0m         \u001b[1;32mraise\u001b[0m \u001b[0mValueError\u001b[0m\u001b[1;33m(\u001b[0m\u001b[1;34m\"First two entries should be rank-1 arrays.\"\u001b[0m\u001b[1;33m)\u001b[0m\u001b[1;33m\u001b[0m\u001b[1;33m\u001b[0m\u001b[0m\n\u001b[1;32m-> 1052\u001b[1;33m     \u001b[0mz\u001b[0m\u001b[1;33m,\u001b[0m \u001b[0mier\u001b[0m \u001b[1;33m=\u001b[0m \u001b[0m_fitpack\u001b[0m\u001b[1;33m.\u001b[0m\u001b[0m_bispev\u001b[0m\u001b[1;33m(\u001b[0m\u001b[0mtx\u001b[0m\u001b[1;33m,\u001b[0m \u001b[0mty\u001b[0m\u001b[1;33m,\u001b[0m \u001b[0mc\u001b[0m\u001b[1;33m,\u001b[0m \u001b[0mkx\u001b[0m\u001b[1;33m,\u001b[0m \u001b[0mky\u001b[0m\u001b[1;33m,\u001b[0m \u001b[0mx\u001b[0m\u001b[1;33m,\u001b[0m \u001b[0my\u001b[0m\u001b[1;33m,\u001b[0m \u001b[0mdx\u001b[0m\u001b[1;33m,\u001b[0m \u001b[0mdy\u001b[0m\u001b[1;33m)\u001b[0m\u001b[1;33m\u001b[0m\u001b[1;33m\u001b[0m\u001b[0m\n\u001b[0m\u001b[0;32m   1053\u001b[0m     \u001b[1;32mif\u001b[0m \u001b[0mier\u001b[0m \u001b[1;33m==\u001b[0m \u001b[1;36m10\u001b[0m\u001b[1;33m:\u001b[0m\u001b[1;33m\u001b[0m\u001b[1;33m\u001b[0m\u001b[0m\n\u001b[0;32m   1054\u001b[0m         \u001b[1;32mraise\u001b[0m \u001b[0mValueError\u001b[0m\u001b[1;33m(\u001b[0m\u001b[1;34m\"Invalid input data\"\u001b[0m\u001b[1;33m)\u001b[0m\u001b[1;33m\u001b[0m\u001b[1;33m\u001b[0m\u001b[0m\n",
      "\u001b[1;31mRuntimeError\u001b[0m: Cannot produce output of size 76800x76800 (size too large)"
     ]
    }
   ],
   "source": [
    "imageUndistort = Image.fromarray(np.uint8(undistortedIm(xSuckInt.reshape(-1),ySuckInt.reshape(-1))*255),'L')"
   ]
  }
 ],
 "metadata": {
  "kernelspec": {
   "display_name": "spyder-env",
   "language": "python",
   "name": "python3"
  },
  "language_info": {
   "codemirror_mode": {
    "name": "ipython",
    "version": 3
   },
   "file_extension": ".py",
   "mimetype": "text/x-python",
   "name": "python",
   "nbconvert_exporter": "python",
   "pygments_lexer": "ipython3",
   "version": "3.10.8"
  },
  "orig_nbformat": 4,
  "vscode": {
   "interpreter": {
    "hash": "9e3716a979783467596032f64a29f1ed6c2dd5af33df55277eac0f35115b61cb"
   }
  }
 },
 "nbformat": 4,
 "nbformat_minor": 2
}
