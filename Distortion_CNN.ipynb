{
 "cells": [
  {
   "cell_type": "markdown",
   "metadata": {
    "id": "x4HI2mpwlrcn"
   },
   "source": [
    "##### Copyright 2019 The TensorFlow Authors."
   ]
  },
  {
   "cell_type": "code",
   "execution_count": null,
   "metadata": {
    "cellView": "form",
    "id": "679Lmwt3l1Bk",
    "tags": []
   },
   "outputs": [],
   "source": [
    "#@title Licensed under the Apache License, Version 2.0 (the \"License\");\n",
    "# you may not use this file except in compliance with the License.\n",
    "# You may obtain a copy of the License at\n",
    "#\n",
    "# https://www.apache.org/licenses/LICENSE-2.0\n",
    "#\n",
    "# Unless required by applicable law or agreed to in writing, software\n",
    "# distributed under the License is distributed on an \"AS IS\" BASIS,\n",
    "# WITHOUT WARRANTIES OR CONDITIONS OF ANY KIND, either express or implied.\n",
    "# See the License for the specific language governing permissions and\n",
    "# limitations under the License."
   ]
  },
  {
   "cell_type": "markdown",
   "metadata": {
    "id": "DSPCom-KmApV"
   },
   "source": [
    "# Convolutional Neural Network (CNN)"
   ]
  },
  {
   "cell_type": "markdown",
   "metadata": {
    "id": "klAltGp8ycek"
   },
   "source": [
    "<table class=\"tfo-notebook-buttons\" align=\"left\">\n",
    "  <td>\n",
    "    <a target=\"_blank\" href=\"https://www.tensorflow.org/tutorials/images/cnn\">\n",
    "    <img src=\"https://www.tensorflow.org/images/tf_logo_32px.png\" />\n",
    "    View on TensorFlow.org</a>\n",
    "  </td>\n",
    "  <td>\n",
    "    <a target=\"_blank\" href=\"https://colab.research.google.com/github/tensorflow/docs/blob/master/site/en/tutorials/images/cnn.ipynb\">\n",
    "    <img src=\"https://www.tensorflow.org/images/colab_logo_32px.png\" />\n",
    "    Run in Google Colab</a>\n",
    "  </td>\n",
    "  <td>\n",
    "    <a target=\"_blank\" href=\"https://github.com/tensorflow/docs/blob/master/site/en/tutorials/images/cnn.ipynb\">\n",
    "    <img src=\"https://www.tensorflow.org/images/GitHub-Mark-32px.png\" />\n",
    "    View source on GitHub</a>\n",
    "  </td>\n",
    "  <td>\n",
    "    <a href=\"https://storage.googleapis.com/tensorflow_docs/docs/site/en/tutorials/images/cnn.ipynb\"><img src=\"https://www.tensorflow.org/images/download_logo_32px.png\" />Download notebook</a>\n",
    "  </td>\n",
    "</table>"
   ]
  },
  {
   "cell_type": "markdown",
   "metadata": {
    "id": "qLGkt5qiyz4E"
   },
   "source": [
    "This tutorial demonstrates training a simple [Convolutional Neural Network](https://developers.google.com/machine-learning/glossary/#convolutional_neural_network) (CNN) to classify [CIFAR images](https://www.cs.toronto.edu/~kriz/cifar.html). Because this tutorial uses the [Keras Sequential API](https://www.tensorflow.org/guide/keras/overview), creating and training your model will take just a few lines of code.\n"
   ]
  },
  {
   "cell_type": "markdown",
   "metadata": {
    "id": "m7KBpffWzlxH"
   },
   "source": [
    "### Import TensorFlow"
   ]
  },
  {
   "cell_type": "code",
   "execution_count": null,
   "metadata": {
    "id": "iAve6DCL4JH4",
    "tags": []
   },
   "outputs": [],
   "source": [
    "import tensorflow as tf\n",
    "\n",
    "from tensorflow.keras import datasets, layers, models\n",
    "import matplotlib.pyplot as plt\n",
    "\n",
    "from PIL import Image\n",
    "import os\n",
    "\n",
    "import numpy as np"
   ]
  },
  {
   "cell_type": "markdown",
   "metadata": {
    "id": "jRFxccghyMVo"
   },
   "source": [
    "### Download and prepare the CIFAR10 dataset\n",
    "\n",
    "\n",
    "The CIFAR10 dataset contains 60,000 color images in 10 classes, with 6,000 images in each class. The dataset is divided into 50,000 training images and 10,000 testing images. The classes are mutually exclusive and there is no overlap between them."
   ]
  },
  {
   "cell_type": "code",
   "execution_count": null,
   "metadata": {
    "id": "JWoEqyMuXFF4",
    "tags": []
   },
   "outputs": [],
   "source": [
    "(train_images, train_labels), (test_images, test_labels) = datasets.cifar10.load_data()\n",
    "\n",
    "# Normalize pixel values to be between 0 and 1\n",
    "train_images, test_images = train_images / 255.0, test_images / 255.0\n",
    "\n",
    "train_images.shape\n",
    "\n",
    "test_images.shape\n",
    "\n",
    "train_labels.shape\n"
   ]
  },
  {
   "cell_type": "code",
   "execution_count": null,
   "metadata": {},
   "outputs": [],
   "source": []
  },
  {
   "cell_type": "code",
   "execution_count": null,
   "metadata": {},
   "outputs": [],
   "source": [
    "# Python program to convert numpy array to image\n",
    "\n",
    "# import required libraries\n",
    "import numpy as np\n",
    "from PIL import Image as im\n",
    "\n",
    "# define a main function\n",
    "def main():\n",
    "\n",
    "    # create a numpy array from scratch\n",
    "    # using arange function.\n",
    "    # 1024x720 = 737280 is the amount \n",
    "    # of pixels.\n",
    "    # np.uint8 is a data type containing\n",
    "    # numbers ranging from 0 to 255 \n",
    "    # and no non-negative integers\n",
    "    array = np.arange(0, 737280, 1, np.uint8)\n",
    "\n",
    "    # check type of array\n",
    "    print(type(array))\n",
    "\n",
    "    # our array will be of width \n",
    "    # 737280 pixels That means it \n",
    "    # will be a long dark line\n",
    "    print(array.shape)\n",
    "\n",
    "    # Reshape the array into a \n",
    "    # familiar resoluition\n",
    "    array = np.reshape(array, (1024, 720))\n",
    "\n",
    "    # show the shape of the array\n",
    "    print(array.shape)\n",
    "\n",
    "    # show the array\n",
    "    print(array)\n",
    "\n",
    "    # creating image object of\n",
    "    # above array\n",
    "    data = im.fromarray(array)\n",
    "\n",
    "    # saving the final output \n",
    "    # as a PNG file\n",
    "    # data.save('gfg_dummy_pic.png')\n",
    "    \n",
    "    # data\n",
    "\n",
    "# driver code\n",
    "if __name__ == \"__main__\":\n",
    "\n",
    "    # function call\n",
    "    main()"
   ]
  },
  {
   "cell_type": "code",
   "execution_count": null,
   "metadata": {},
   "outputs": [],
   "source": [
    "# Test creating image from array\n",
    "\n",
    "a = np.full((100, 100), 0)\n",
    "im = Image.fromarray(a, mode=\"L\")\n",
    "im.getpixel((0, 0))  # 44\n",
    "im = Image.fromarray(a, mode=\"RGB\")\n",
    "im.getpixel((0, 0))  # (44, 1, 0)\n",
    "\n"
   ]
  },
  {
   "cell_type": "code",
   "execution_count": null,
   "metadata": {},
   "outputs": [],
   "source": [
    "# train_images[0,:,:,:].shape\n",
    "\n",
    "# train_images[0,:,:,:]\n",
    "\n",
    "# Image.fromarray(train_images[0,:,:,:])"
   ]
  },
  {
   "cell_type": "code",
   "execution_count": null,
   "metadata": {},
   "outputs": [],
   "source": [
    "# Load single image to test converting to array\n",
    "\n",
    "# load image\n",
    "img = Image.open('Training Set BW/01_k-0p082.jpg')\n",
    "\n",
    "# asarray() class is used to convert PIL images into NumPy arrays\n",
    "numpydata = np.asarray(img)\n",
    "\n",
    "# <class 'numpy.ndarray'>\n",
    "print(type(numpydata))\n",
    "\n",
    "# shape\n",
    "print(numpydata.shape)\n"
   ]
  },
  {
   "cell_type": "code",
   "execution_count": null,
   "metadata": {},
   "outputs": [],
   "source": [
    "# Load images into arrays and create labels\n",
    "\n",
    "filenames = []\n",
    "\n",
    "all_distortion_images = np.zeros((1,480,640,3)) # array of RGB values for images [N x width x height x 3]\n",
    "\n",
    "all_distortion_labels = np.zeros(1,dtype=int) # array of labels for images denoting if they are distorted. 0 = not distorted, 1 = distored\n",
    "\n",
    "# directory\n",
    "directory = 'Training Set BW'\n",
    "\n",
    "# iterate over files in directory\n",
    "for filename1 in os.listdir(directory):\n",
    "    f1 = os.path.join(directory, filename1)\n",
    "    # check if file is valid\n",
    "    if os.path.isfile(f1) and \".jpg\" in f1:\n",
    "        filenames.append(filename1)\n",
    "        # load image\n",
    "        img = Image.open(f1)\n",
    "        # convert to numpy array\n",
    "        img_array = np.asarray(img)/255\n",
    "        # print(img_array.shape)\n",
    "        # if numpy array is 480 x 640 x 3, then append to all_images array\n",
    "        if img_array.shape[0] == 480 and img_array.shape[1] == 640 and img_array.shape[2] == 3:\n",
    "            img_array = img_array.reshape((1,img_array.shape[0],img_array.shape[1],img_array.shape[2])) # reshape to 1 x 480 x 640 x 3\n",
    "            # print(img_array.shape)\n",
    "            all_distortion_images = np.append(all_distortion_images, img_array, axis=0) # append to all_distortion_images array\n",
    "        # if numpy array is 960 x 1280 x 3, then downsample by factor of 2, and append to all_images array\n",
    "        if img_array.shape[0] == 960 and img_array.shape[1] == 1280 and img_array.shape[2] == 3:\n",
    "            img_array = img_array[0:-1:2,0:-1:2,:] # downsample\n",
    "            img_array = img_array.reshape((1,img_array.shape[0],img_array.shape[1],img_array.shape[2])) # reshape to 1 x 480 x 640 x 3\n",
    "            # print(img_array.shape)\n",
    "            all_distortion_images = np.append(all_distortion_images, img_array, axis=0) # append to all_distortion_images array\n",
    "        # label images based on if \"k\" is in filename\n",
    "        if \"k\" in filename1:\n",
    "            all_distortion_labels = np.append(all_distortion_labels, 1)\n",
    "        else:\n",
    "            all_distortion_labels = np.append(all_distortion_labels, 0)\n",
    "\n",
    "# remove first index of all_distortion_images and all_distortion_labels\n",
    "all_distortion_images = all_distortion_images[1:,:,:,:]\n",
    "all_distortion_labels = all_distortion_labels[1:]\n",
    "all_distortion_labels = all_distortion_labels.reshape(-1,1)\n",
    "\n",
    "all_distortion_images.shape\n",
    "\n",
    "all_distortion_labels.shape\n",
    "\n"
   ]
  },
  {
   "cell_type": "code",
   "execution_count": null,
   "metadata": {},
   "outputs": [],
   "source": [
    "# split data into train and test data\n",
    "\n",
    "np.random.seed(42) # set random seed\n",
    "\n",
    "idx = np.random.permutation(all_distortion_images.shape[0]) # get permutation \n",
    "\n",
    "idx_train = idx[0:40] # training indices\n",
    "idx_test = idx[40:] # test indices\n",
    "\n",
    "# print(idx_train)\n",
    "# print(idx_test)\n",
    "\n",
    "# split all data and labels into training and test sets\n",
    "train_images = all_distortion_images[idx_train,:,:,:]\n",
    "\n",
    "test_images = all_distortion_images[idx_test,:,:,:]\n",
    "\n",
    "train_labels = all_distortion_labels[idx_train]\n",
    "\n",
    "test_labels = all_distortion_labels[idx_test]\n",
    "\n",
    "# filenames_train = filenames[idx_train]\n",
    "\n",
    "print(train_labels[:,0].T)\n",
    "\n",
    "print(test_labels[:,0].T)\n",
    "\n"
   ]
  },
  {
   "cell_type": "code",
   "execution_count": null,
   "metadata": {},
   "outputs": [],
   "source": [
    "# print(filenames)\n",
    "\n",
    "# print(\"k\" in filenames[k1] for k1 in range(0,len(filenames)))\n",
    "\n",
    "# print(all_distortion_labels)"
   ]
  },
  {
   "cell_type": "code",
   "execution_count": null,
   "metadata": {},
   "outputs": [],
   "source": [
    "# print(filenames[idx_train[3]])\n",
    "\n",
    "# # print([\"k\" in filenames[k1] for k1 in range(0,len(filenames))])\n",
    "\n",
    "# print(all_distortion_labels[idx_train[3]])"
   ]
  },
  {
   "cell_type": "markdown",
   "metadata": {
    "id": "7wArwCTJJlUa"
   },
   "source": [
    "### Verify the data\n",
    "\n",
    "To verify that the dataset looks correct, let's plot the first 25 images from the training set and display the class name below each image:\n"
   ]
  },
  {
   "cell_type": "code",
   "execution_count": null,
   "metadata": {
    "id": "K3PAELE2eSU9",
    "tags": []
   },
   "outputs": [],
   "source": [
    "# class_names = ['airplane', 'automobile', 'bird', 'cat', 'deer',\n",
    "#                'dog', 'frog', 'horse', 'ship', 'truck']\n",
    "\n",
    "# plt.figure(figsize=(10,10))\n",
    "# for i in range(25):\n",
    "#     plt.subplot(5,5,i+1)\n",
    "#     plt.xticks([])\n",
    "#     plt.yticks([])\n",
    "#     plt.grid(False)\n",
    "#     plt.imshow(train_images[i])\n",
    "#     # The CIFAR labels happen to be arrays, \n",
    "#     # which is why you need the extra index\n",
    "#     plt.xlabel(class_names[train_labels[i][0]])\n",
    "# plt.show()"
   ]
  },
  {
   "cell_type": "code",
   "execution_count": null,
   "metadata": {},
   "outputs": [],
   "source": [
    "class_names = ['undistorted', 'distorted']\n",
    "\n",
    "plt.figure(figsize=(8,24))\n",
    "for k1 in range(0,12):\n",
    "    plt.subplot(6,2,k1+1)\n",
    "    plt.xticks([])\n",
    "    plt.yticks([])\n",
    "    plt.grid(False)\n",
    "    plt.imshow(train_images[k1])\n",
    "    # The CIFAR labels happen to be arrays, \n",
    "    # which is why you need the extra index\n",
    "    plt.xlabel(filenames[idx_train[k1]] + \" : \" + class_names[train_labels[k1,0]])\n",
    "plt.show()\n"
   ]
  },
  {
   "cell_type": "markdown",
   "metadata": {
    "id": "Oewp-wYg31t9"
   },
   "source": [
    "### Create the convolutional base"
   ]
  },
  {
   "cell_type": "markdown",
   "metadata": {
    "id": "3hQvqXpNyN3x"
   },
   "source": [
    "The 6 lines of code below define the convolutional base using a common pattern: a stack of [Conv2D](https://www.tensorflow.org/api_docs/python/tf/keras/layers/Conv2D) and [MaxPooling2D](https://www.tensorflow.org/api_docs/python/tf/keras/layers/MaxPool2D) layers.\n",
    "\n",
    "As input, a CNN takes tensors of shape (image_height, image_width, color_channels), ignoring the batch size. If you are new to these dimensions, color_channels refers to (R,G,B). In this example, you will configure your CNN to process inputs of shape (32, 32, 3), which is the format of CIFAR images. You can do this by passing the argument `input_shape` to your first layer.\n"
   ]
  },
  {
   "cell_type": "code",
   "execution_count": null,
   "metadata": {
    "id": "L9YmGQBQPrdn",
    "tags": []
   },
   "outputs": [],
   "source": [
    "model = models.Sequential()\n",
    "model.add(layers.Conv2D(32, (3, 3), activation='relu', input_shape=(480, 640, 3)))\n",
    "model.add(layers.MaxPooling2D((2, 2)))\n",
    "model.add(layers.Conv2D(64, (3, 3), activation='relu'))\n",
    "model.add(layers.MaxPooling2D((2, 2)))\n",
    "model.add(layers.Conv2D(64, (3, 3), activation='relu'))\n",
    "\n",
    "# model = models.Sequential()\n",
    "# model.add(layers.Conv2D(32, (4, 4), activation='relu', input_shape=(32, 32, 3)))\n",
    "# model.add(layers.MaxPooling2D((2, 2)))\n",
    "# model.add(layers.Conv2D(64, (3, 3), activation='relu'))\n",
    "# model.add(layers.MaxPooling2D((2, 2)))\n",
    "# model.add(layers.Conv2D(64, (3, 3), activation='relu'))"
   ]
  },
  {
   "cell_type": "markdown",
   "metadata": {
    "id": "lvDVFkg-2DPm"
   },
   "source": [
    "Let's display the architecture of your model so far:"
   ]
  },
  {
   "cell_type": "code",
   "execution_count": null,
   "metadata": {
    "id": "8-C4XBg4UTJy",
    "tags": []
   },
   "outputs": [],
   "source": [
    "model.summary()"
   ]
  },
  {
   "cell_type": "markdown",
   "metadata": {
    "id": "_j-AXYeZ2GO5"
   },
   "source": [
    "Above, you can see that the output of every Conv2D and MaxPooling2D layer is a 3D tensor of shape (height, width, channels). The width and height dimensions tend to shrink as you go deeper in the network. The number of output channels for each Conv2D layer is controlled by the first argument (e.g., 32 or 64). Typically,  as the width and height shrink, you can afford (computationally) to add more output channels in each Conv2D layer."
   ]
  },
  {
   "cell_type": "markdown",
   "metadata": {
    "id": "_v8sVOtG37bT"
   },
   "source": [
    "### Add Dense layers on top\n",
    "\n",
    "To complete the model, you will feed the last output tensor from the convolutional base (of shape (4, 4, 64)) into one or more Dense layers to perform classification. Dense layers take vectors as input (which are 1D), while the current output is a 3D tensor. First, you will flatten (or unroll) the 3D output to 1D,  then add one or more Dense layers on top. CIFAR has 10 output classes, so you use a final Dense layer with 10 outputs."
   ]
  },
  {
   "cell_type": "code",
   "execution_count": null,
   "metadata": {
    "id": "mRs95d6LUVEi",
    "tags": []
   },
   "outputs": [],
   "source": [
    "model.add(layers.Flatten())\n",
    "model.add(layers.Dense(64, activation='relu'))\n",
    "model.add(layers.Dense(2, activation='sigmoid'))\n",
    "# model.add(layers.Dense(1))"
   ]
  },
  {
   "cell_type": "markdown",
   "metadata": {
    "id": "ipGiQMcR4Gtq"
   },
   "source": [
    "Here's the complete architecture of your model:"
   ]
  },
  {
   "cell_type": "code",
   "execution_count": null,
   "metadata": {
    "id": "8Yu_m-TZUWGX",
    "tags": []
   },
   "outputs": [],
   "source": [
    "model.summary()"
   ]
  },
  {
   "cell_type": "markdown",
   "metadata": {
    "id": "xNKXi-Gy3RO-"
   },
   "source": [
    "The network summary shows that (4, 4, 64) outputs were flattened into vectors of shape (1024) before going through two Dense layers."
   ]
  },
  {
   "cell_type": "markdown",
   "metadata": {
    "id": "P3odqfHP4M67"
   },
   "source": [
    "### Compile and train the model"
   ]
  },
  {
   "cell_type": "code",
   "execution_count": null,
   "metadata": {
    "id": "MdDzI75PUXrG",
    "tags": []
   },
   "outputs": [],
   "source": [
    "\n",
    "# compile model\n",
    "model.compile(optimizer='adam', loss=tf.keras.losses.SparseCategoricalCrossentropy(from_logits=True), metrics=['accuracy'])\n",
    "\n",
    "# train model\n",
    "history = model.fit(train_images, train_labels, epochs=10, validation_data=(test_images, test_labels))\n"
   ]
  },
  {
   "cell_type": "markdown",
   "metadata": {
    "id": "jKgyC5K_4O0d"
   },
   "source": [
    "### Evaluate the model"
   ]
  },
  {
   "cell_type": "code",
   "execution_count": null,
   "metadata": {},
   "outputs": [],
   "source": [
    "# dir(history.history)"
   ]
  },
  {
   "cell_type": "code",
   "execution_count": null,
   "metadata": {
    "id": "gtyDF0MKUcM7",
    "tags": []
   },
   "outputs": [],
   "source": [
    "#\n",
    "\n",
    "fig1 = plt.figure(figsize=(12,6))\n",
    "# plt.plot(history.epoch,0.6*np.ones(len(history.epoch)),'k--')\n",
    "# plt.plot(history.epoch,0.7*np.ones(len(history.epoch)),'k--')\n",
    "# plt.plot(history.epoch,0.8*np.ones(len(history.epoch)),'k--')\n",
    "# plt.plot(history.epoch,0.9*np.ones(len(history.epoch)),'k--')\n",
    "# plt.plot(history.epoch,1.0*np.ones(len(history.epoch)),'k--')\n",
    "plt.plot(history.history['accuracy'], label='accuracy')\n",
    "plt.plot(history.history['val_accuracy'], label = 'val_accuracy')\n",
    "plt.xlabel('Epoch')\n",
    "plt.ylabel('Accuracy')\n",
    "plt.ylim([0.2, 1.2])\n",
    "plt.grid()\n",
    "plt.legend(loc='lower right')\n",
    "\n",
    "test_loss, test_acc = model.evaluate(test_images,  test_labels, verbose=2)\n"
   ]
  },
  {
   "cell_type": "code",
   "execution_count": null,
   "metadata": {
    "id": "0LvwaKhtUdOo",
    "tags": []
   },
   "outputs": [],
   "source": [
    "print(test_acc)"
   ]
  },
  {
   "cell_type": "markdown",
   "metadata": {
    "id": "8cfJ8AR03gT5"
   },
   "source": [
    "Your simple CNN has achieved a test accuracy of over 70%. Not bad for a few lines of code! For another CNN style, check out the [TensorFlow 2 quickstart for experts](https://www.tensorflow.org/tutorials/quickstart/advanced) example that uses the Keras subclassing API and `tf.GradientTape`."
   ]
  },
  {
   "cell_type": "code",
   "execution_count": null,
   "metadata": {},
   "outputs": [],
   "source": [
    "# dir(history.history)"
   ]
  },
  {
   "cell_type": "code",
   "execution_count": null,
   "metadata": {},
   "outputs": [],
   "source": [
    "# train_images"
   ]
  },
  {
   "cell_type": "code",
   "execution_count": null,
   "metadata": {},
   "outputs": [],
   "source": [
    "k1 = 1\n",
    "\n",
    "fig1 = plt.figure(figsize=(8,8))\n",
    "plt.imshow(test_images[k1])\n",
    "plt.xlabel(class_names[test_labels[k1,0]])\n",
    "plt.show()"
   ]
  },
  {
   "cell_type": "code",
   "execution_count": null,
   "metadata": {},
   "outputs": [],
   "source": [
    "model.predict(test_images)\n",
    "\n",
    "# model.predict(train_images)"
   ]
  },
  {
   "cell_type": "code",
   "execution_count": null,
   "metadata": {},
   "outputs": [],
   "source": [
    "# test_images[0].reshape(1,32,32,3).shape"
   ]
  },
  {
   "cell_type": "code",
   "execution_count": null,
   "metadata": {},
   "outputs": [],
   "source": [
    "kim = 1\n",
    "\n",
    "print(model.predict(test_images[kim].reshape(1,480,640,3))[0])\n",
    "\n",
    "print(np.argmax(model.predict(test_images[kim].reshape(1,480,640,3))))\n",
    "\n",
    "print(class_names[np.argmax(model.predict(test_images[kim].reshape(1,480,640,3)))])\n",
    "\n",
    "print(class_names[test_labels[k1,0]])"
   ]
  },
  {
   "cell_type": "code",
   "execution_count": null,
   "metadata": {},
   "outputs": [],
   "source": [
    "# Validate model accuracy\n",
    "\n",
    "# model prediction from test_images\n",
    "prediction = model.predict(test_images)\n",
    "\n",
    "# apply classification using argmax to 0 or 1\n",
    "predicted_class = np.argmax(prediction, axis=1)\n",
    "\n",
    "print(\"Predicted classes for test images:\")\n",
    "print(predicted_class)\n",
    "\n",
    "print(\"Test image labels:\")\n",
    "print(test_labels[:,0].T)\n",
    "\n",
    "print(f\"Number of correct predictions out of number of test images: {np.sum(predicted_class == test_labels[:,0])} / {len(test_labels)}\")\n",
    "# np.sum(predicted_class == test_labels)\n",
    "\n",
    "print(f\"Model accuracy on test images: {np.sum(predicted_class == test_labels[:,0]) / len(test_labels)}\")"
   ]
  },
  {
   "cell_type": "code",
   "execution_count": null,
   "metadata": {},
   "outputs": [],
   "source": [
    "# class_names[np.argmax(model.predict(test_images[1].reshape(1,32,32,3)))]"
   ]
  },
  {
   "cell_type": "code",
   "execution_count": null,
   "metadata": {},
   "outputs": [],
   "source": [
    "# np.argmax(model.predict(test_images),axis=1)\n",
    "\n",
    "# test_labels.reshape(-1,)\n",
    "\n",
    "# np.argmax(model.predict(test_images),axis=1)\n",
    "\n",
    "\n",
    "# test_labels.reshape(-1,) == np.argmax(model.predict(test_images),axis=1)\n",
    "\n",
    "# sum(test_labels.reshape(-1,) == np.argmax(model.predict(test_images),axis=1))\n",
    "\n",
    "# sum(test_labels.reshape(-1,) == np.argmax(model.predict(test_images),axis=1)) / test_labels.shape[0]"
   ]
  },
  {
   "cell_type": "code",
   "execution_count": null,
   "metadata": {},
   "outputs": [],
   "source": []
  }
 ],
 "metadata": {
  "accelerator": "GPU",
  "colab": {
   "collapsed_sections": [],
   "name": "cnn.ipynb",
   "toc_visible": true
  },
  "kernelspec": {
   "display_name": "Python 3 (ipykernel)",
   "language": "python",
   "name": "python3"
  },
  "language_info": {
   "codemirror_mode": {
    "name": "ipython",
    "version": 3
   },
   "file_extension": ".py",
   "mimetype": "text/x-python",
   "name": "python",
   "nbconvert_exporter": "python",
   "pygments_lexer": "ipython3",
   "version": "3.10.6"
  }
 },
 "nbformat": 4,
 "nbformat_minor": 4
}
