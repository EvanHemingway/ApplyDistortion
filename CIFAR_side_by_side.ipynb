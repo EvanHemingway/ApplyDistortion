{
 "cells": [
  {
   "cell_type": "markdown",
   "metadata": {
    "id": "x4HI2mpwlrcn"
   },
   "source": [
    "##### Copyright 2019 The TensorFlow Authors."
   ]
  },
  {
   "cell_type": "code",
   "execution_count": null,
   "metadata": {
    "cellView": "form",
    "id": "679Lmwt3l1Bk",
    "tags": []
   },
   "outputs": [],
   "source": [
    "#@title Licensed under the Apache License, Version 2.0 (the \"License\");\n",
    "# you may not use this file except in compliance with the License.\n",
    "# You may obtain a copy of the License at\n",
    "#\n",
    "# https://www.apache.org/licenses/LICENSE-2.0\n",
    "#\n",
    "# Unless required by applicable law or agreed to in writing, software\n",
    "# distributed under the License is distributed on an \"AS IS\" BASIS,\n",
    "# WITHOUT WARRANTIES OR CONDITIONS OF ANY KIND, either express or implied.\n",
    "# See the License for the specific language governing permissions and\n",
    "# limitations under the License."
   ]
  },
  {
   "cell_type": "markdown",
   "metadata": {
    "id": "DSPCom-KmApV"
   },
   "source": [
    "# Convolutional Neural Network (CNN)"
   ]
  },
  {
   "cell_type": "markdown",
   "metadata": {
    "id": "klAltGp8ycek"
   },
   "source": [
    "<table class=\"tfo-notebook-buttons\" align=\"left\">\n",
    "  <td>\n",
    "    <a target=\"_blank\" href=\"https://www.tensorflow.org/tutorials/images/cnn\">\n",
    "    <img src=\"https://www.tensorflow.org/images/tf_logo_32px.png\" />\n",
    "    View on TensorFlow.org</a>\n",
    "  </td>\n",
    "  <td>\n",
    "    <a target=\"_blank\" href=\"https://colab.research.google.com/github/tensorflow/docs/blob/master/site/en/tutorials/images/cnn.ipynb\">\n",
    "    <img src=\"https://www.tensorflow.org/images/colab_logo_32px.png\" />\n",
    "    Run in Google Colab</a>\n",
    "  </td>\n",
    "  <td>\n",
    "    <a target=\"_blank\" href=\"https://github.com/tensorflow/docs/blob/master/site/en/tutorials/images/cnn.ipynb\">\n",
    "    <img src=\"https://www.tensorflow.org/images/GitHub-Mark-32px.png\" />\n",
    "    View source on GitHub</a>\n",
    "  </td>\n",
    "  <td>\n",
    "    <a href=\"https://storage.googleapis.com/tensorflow_docs/docs/site/en/tutorials/images/cnn.ipynb\"><img src=\"https://www.tensorflow.org/images/download_logo_32px.png\" />Download notebook</a>\n",
    "  </td>\n",
    "</table>"
   ]
  },
  {
   "cell_type": "markdown",
   "metadata": {
    "id": "qLGkt5qiyz4E"
   },
   "source": [
    "This tutorial demonstrates training a simple [Convolutional Neural Network](https://developers.google.com/machine-learning/glossary/#convolutional_neural_network) (CNN) to classify [CIFAR images](https://www.cs.toronto.edu/~kriz/cifar.html). Because this tutorial uses the [Keras Sequential API](https://www.tensorflow.org/guide/keras/overview), creating and training your model will take just a few lines of code.\n"
   ]
  },
  {
   "cell_type": "markdown",
   "metadata": {
    "id": "m7KBpffWzlxH"
   },
   "source": [
    "### Import TensorFlow"
   ]
  },
  {
   "cell_type": "code",
   "execution_count": null,
   "metadata": {
    "id": "iAve6DCL4JH4",
    "tags": []
   },
   "outputs": [],
   "source": [
    "import tensorflow as tf\n",
    "\n",
    "from tensorflow.keras import datasets, layers, models\n",
    "import matplotlib.pyplot as plt\n",
    "\n",
    "from PIL import Image\n",
    "import os\n",
    "\n",
    "import numpy as np\n",
    "\n",
    "import fnmatch\n",
    "\n",
    "np.random.seed(42)\n"
   ]
  },
  {
   "cell_type": "markdown",
   "metadata": {
    "id": "jRFxccghyMVo"
   },
   "source": [
    "### Download and prepare the CIFAR10 dataset\n",
    "\n",
    "\n",
    "The CIFAR10 dataset contains 60,000 color images in 10 classes, with 6,000 images in each class. The dataset is divided into 50,000 training images and 10,000 testing images. The classes are mutually exclusive and there is no overlap between them."
   ]
  },
  {
   "cell_type": "code",
   "execution_count": null,
   "metadata": {
    "id": "JWoEqyMuXFF4",
    "tags": []
   },
   "outputs": [],
   "source": [
    "#\n",
    "\n",
    "(train_images, train_labels), (test_images, test_labels) = datasets.cifar10.load_data()\n",
    "\n",
    "# Normalize pixel values to be between 0 and 1\n",
    "train_images, test_images = train_images / 255.0, test_images / 255.0\n",
    "\n",
    "# train_images.shape\n",
    "\n",
    "# test_images.shape\n",
    "\n",
    "# train_labels.shape\n",
    "\n",
    "# test_labels.shape\n"
   ]
  },
  {
   "cell_type": "code",
   "execution_count": null,
   "metadata": {},
   "outputs": [],
   "source": [
    "#\n",
    "\n",
    "new_train_images = np.zeros((train_images.shape[0], 2*train_images.shape[1], train_images.shape[2], train_images.shape[3]))\n",
    "new_train_labels = np.zeros((train_labels.shape[0], 2), dtype=int)\n",
    "\n",
    "new_test_images = np.zeros((test_images.shape[0], 2*test_images.shape[1], test_images.shape[2], test_images.shape[3]))\n",
    "new_test_labels = np.zeros((test_labels.shape[0], 2), dtype=int)\n",
    "\n",
    "for k1 in range(0,train_images.shape[0]):\n",
    "    idx1 = np.random.randint(0, train_images.shape[0])\n",
    "    idx2 = np.random.randint(0, train_images.shape[0])\n",
    "    new_train_images[k1,0:32,:,:] = train_images[idx1,:,:,:]\n",
    "    new_train_images[k1,32:,:,:] = train_images[idx2,:,:,:]\n",
    "    \n",
    "    new_train_labels[k1,:] = [train_labels[idx1,0], train_labels[idx2,0]]\n",
    "    \n",
    "for k1 in range(0,test_images.shape[0]):\n",
    "    idx1 = np.random.randint(0, test_images.shape[0])\n",
    "    idx2 = np.random.randint(0, test_images.shape[0])\n",
    "    new_test_images[k1,0:32,:,:] = test_images[idx1,:,:,:]\n",
    "    new_test_images[k1,32:,:,:] = test_images[idx2,:,:,:]\n",
    "    \n",
    "    new_test_labels[k1,:] = [test_labels[idx1,0], test_labels[idx2,0]]"
   ]
  },
  {
   "cell_type": "code",
   "execution_count": null,
   "metadata": {},
   "outputs": [],
   "source": [
    "#\n",
    "\n",
    "one_hot_train_labels = np.zeros((new_train_labels.shape[0],10))\n",
    "\n",
    "for k1 in range(0,new_train_labels.shape[0]):\n",
    "    one_hot_train_labels[k1,new_train_labels[k1,:]] = 1\n",
    "    \n",
    "one_hot_test_labels = np.zeros((new_test_labels.shape[0],10))\n",
    "\n",
    "for k1 in range(0,new_test_labels.shape[0]):\n",
    "    one_hot_test_labels[k1,new_test_labels[k1,:]] = 1\n",
    "\n",
    "print(new_train_labels[0:5,:])\n",
    "print(one_hot_train_labels[0:5,:])\n",
    "\n",
    "print(new_test_labels[0:5,:])\n",
    "print(one_hot_test_labels[0:5,:])"
   ]
  },
  {
   "cell_type": "markdown",
   "metadata": {
    "id": "7wArwCTJJlUa"
   },
   "source": [
    "### Verify the data\n",
    "\n",
    "To verify that the dataset looks correct, let's plot the first 25 images from the training set and display the class name below each image:\n"
   ]
  },
  {
   "cell_type": "code",
   "execution_count": null,
   "metadata": {},
   "outputs": [],
   "source": [
    "#\n",
    "\n",
    "# class_names = ['undistorted', 'distorted']\n",
    "\n",
    "plt.figure(figsize=(18,18))\n",
    "for k1 in range(0,24):\n",
    "    plt.subplot(6,4,k1+1)\n",
    "    plt.xticks([])\n",
    "    plt.yticks([])\n",
    "    plt.grid(False)\n",
    "    plt.imshow(new_train_images[k1])\n",
    "    # The CIFAR labels happen to be arrays,\n",
    "    # which is why you need the extra index\n",
    "    # plt.xlabel(f\"{train_filenames[k1].split('.')[0]} | {class_names[train_labels[k1,0]]} | {train_values[k1,0]}\")\n",
    "    plt.xlabel(f\"{new_train_labels[k1,0]} | {new_train_labels[k1,1]}\")\n",
    "plt.show()\n"
   ]
  },
  {
   "cell_type": "markdown",
   "metadata": {
    "id": "Oewp-wYg31t9"
   },
   "source": [
    "### Create the convolutional base"
   ]
  },
  {
   "cell_type": "markdown",
   "metadata": {
    "id": "3hQvqXpNyN3x"
   },
   "source": [
    "The 6 lines of code below define the convolutional base using a common pattern: a stack of [Conv2D](https://www.tensorflow.org/api_docs/python/tf/keras/layers/Conv2D) and [MaxPooling2D](https://www.tensorflow.org/api_docs/python/tf/keras/layers/MaxPool2D) layers.\n",
    "\n",
    "As input, a CNN takes tensors of shape (image_height, image_width, color_channels), ignoring the batch size. If you are new to these dimensions, color_channels refers to (R,G,B). In this example, you will configure your CNN to process inputs of shape (32, 32, 3), which is the format of CIFAR images. You can do this by passing the argument `input_shape` to your first layer.\n"
   ]
  },
  {
   "cell_type": "code",
   "execution_count": null,
   "metadata": {
    "id": "L9YmGQBQPrdn",
    "tags": []
   },
   "outputs": [],
   "source": [
    "# Create first model\n",
    "\n",
    "model_01 = models.Sequential()\n",
    "model_01.add(layers.Conv2D(32, (3, 3), activation='relu', input_shape=(new_train_images.shape[1], new_train_images.shape[2], new_train_images.shape[3])))\n",
    "model_01.add(layers.MaxPooling2D((2, 2)))\n",
    "model_01.add(layers.Dropout(0.25))\n",
    "model_01.add(layers.Conv2D(64, (3, 3), activation='relu'))\n",
    "model_01.add(layers.MaxPooling2D((2, 2)))\n",
    "# model_01.add(layers.Dropout(0.25))\n",
    "# model_01.add(layers.Conv2D(64, (3, 3), activation='relu'))\n",
    "# model_01.add(layers.MaxPooling2D((2, 2)))\n",
    "# model_01.add(layers.Dropout(0.25))\n",
    "\n",
    "model_01.add(layers.Flatten())\n",
    "model_01.add(layers.Dense(64, activation='relu'))\n",
    "# model_01.add(layers.Dense(16, activation='relu'))\n",
    "# model_01.add(layers.Dense(4, activation='relu'))\n",
    "model_01.add(layers.Dense(10, activation='sigmoid'))\n",
    "# model_01.add(layers.Dense(1, activation='sigmoid'))\n",
    "\n",
    "model_01.summary()\n",
    "\n",
    "# model_01 = tf.keras.models.load_model('Saved_Models/Model_Distortion_Coefficient_MSE_20230105_128')\n",
    "\n",
    "# model_01.summary()\n",
    "\n"
   ]
  },
  {
   "cell_type": "code",
   "execution_count": null,
   "metadata": {
    "id": "8-C4XBg4UTJy",
    "tags": []
   },
   "outputs": [],
   "source": [
    "# Compile and train first model\n",
    "\n",
    "# compile model\n",
    "model_01.compile(optimizer='adam', loss=tf.keras.losses.BinaryCrossentropy(from_logits=False), metrics=['accuracy'])\n",
    "\n",
    "# train model\n",
    "history = model_01.fit(new_train_images, one_hot_train_labels, epochs=16, batch_size=256, validation_data=(new_test_images, one_hot_test_labels))\n"
   ]
  },
  {
   "cell_type": "markdown",
   "metadata": {
    "id": "jKgyC5K_4O0d"
   },
   "source": [
    "### Evaluate the model"
   ]
  },
  {
   "cell_type": "code",
   "execution_count": null,
   "metadata": {},
   "outputs": [],
   "source": [
    "# Calculate test data loss for model\n",
    "\n",
    "test_loss = model_01.evaluate(new_test_images, one_hot_test_labels, verbose=2)\n",
    "\n"
   ]
  },
  {
   "cell_type": "code",
   "execution_count": null,
   "metadata": {},
   "outputs": [],
   "source": [
    "history.history.keys()"
   ]
  },
  {
   "cell_type": "code",
   "execution_count": null,
   "metadata": {
    "id": "gtyDF0MKUcM7",
    "tags": []
   },
   "outputs": [],
   "source": [
    "#\n",
    "\n",
    "# keys = history.history.keys()\n",
    "# print(len(keys))\n",
    "\n",
    "# for key in history.history.keys():\n",
    "#     if \"val\" not in key:\n",
    "#         print(key)\n",
    "\n",
    "fig1 = plt.figure(figsize=(12,6))\n",
    "# plt.plot(history.epoch,0.6*np.ones(len(history.epoch)),'k--')\n",
    "# plt.plot(history.epoch,0.7*np.ones(len(history.epoch)),'k--')\n",
    "# plt.plot(history.epoch,0.8*np.ones(len(history.epoch)),'k--')\n",
    "# plt.plot(history.epoch,0.9*np.ones(len(history.epoch)),'k--')\n",
    "# plt.plot(history.epoch,1.0*np.ones(len(history.epoch)),'k--')\n",
    "plt.plot(history.history['loss'], label='train loss')\n",
    "plt.plot(history.history['val_loss'], label = 'test loss')\n",
    "plt.xlabel('Epoch')\n",
    "plt.ylabel('Loss')\n",
    "# plt.ylim([0.2, 1.2])\n",
    "plt.grid()\n",
    "plt.legend(loc='lower right')\n",
    "\n",
    "fig1, ax1 = plt.subplots(int(len(history.history.keys())/2), figsize=(16,12))\n",
    "for k1, key in enumerate(history.history.keys()):\n",
    "    if \"val\" not in key:\n",
    "        ax1[k1].plot(history.history[key], label=\"train \"+key)\n",
    "        ax1[k1].plot(history.history[\"val_\"+key], label=\"test \"+key)\n",
    "        ax1[k1].set_xlabel('Epoch')\n",
    "        ax1[k1].set_ylabel(key)\n",
    "        ax1[k1].grid()\n",
    "        ax1[k1].legend(loc='upper right')\n"
   ]
  },
  {
   "cell_type": "code",
   "execution_count": null,
   "metadata": {},
   "outputs": [],
   "source": [
    "# Look at output of model for single image\n",
    "\n",
    "kim = 30\n",
    "\n",
    "prediction = model_01.predict(test_images[kim].reshape(1,image_width,image_height))[0]\n",
    "print(f\"Model prediction for image {kim}:\")\n",
    "print(prediction*max_dist_value)\n",
    "\n",
    "# apply classification using argmax to 0 or 1\n",
    "predicted_value = prediction[0]*max_dist_value\n",
    "\n",
    "# print(f\"Predicted classes for test image: {predicted_class} | {class_names[predicted_class]}\")\n",
    "# print(f\"Predicted classes for test image: {predicted_class}\")\n",
    "# print(predicted_class)\n",
    "\n",
    "# print(f\"True class for terst image: {test_labels[kim,0]} | {class_names[test_labels[kim,0]]}\")\n",
    "print(f\"True value for test image: {test_values[kim,0]*max_dist_value}\")\n",
    "# print(test_labels[kim,0].T)\n",
    "\n",
    "fig1 = plt.figure(figsize=(8,8))\n",
    "plt.imshow(test_images[kim])\n",
    "plt.xlabel(f\"{test_filenames[kim]} - Predicted value: {predicted_value:0.4f} | Actual value: {test_values[kim,0]*max_dist_value}\")\n",
    "plt.show()\n"
   ]
  },
  {
   "cell_type": "code",
   "execution_count": null,
   "metadata": {},
   "outputs": [],
   "source": [
    "# Validate model accuracy\n",
    "\n",
    "# model prediction from test_images\n",
    "prediction = model_01.predict(test_images)\n",
    "# print(prediction)\n",
    "\n",
    "# apply classification using argmax to 0 or 1\n",
    "predicted_values = prediction[:,0]\n",
    "\n",
    "print(\"Predicted values for test images:\")\n",
    "print(predicted_values.T*max_dist_value)\n",
    "\n",
    "print(\"Actual values for test images:\")\n",
    "print(test_values[:,0].T*max_dist_value)\n",
    "\n",
    "# print(f\"Number of correct predictions out of number of test images: {np.sum(predicted_class == test_classes[:,0])} / {len(test_classes)}\")\n",
    "# # np.sum(predicted_class == test_labels)\n",
    "\n",
    "# print(f\"Model accuracy on test images: {np.sum(predicted_class == test_classes[:,0]) / len(test_classes)}\")\n",
    "\n",
    "# # wrong_idx = np.asarray(predicted_class != test_labels[:,0], dtype=int)\n",
    "# # wrong_idx = np.arange(0,len(wrong_idx))[wrong_idx == 1]\n",
    "\n",
    "# wrong_idx = np.arange(0,len(test_images))[(predicted_class != test_classes[:,0])]\n",
    "# print(\"Indices for erroneous predictions\")\n",
    "# print(wrong_idx)\n",
    "# print(\"Filenames for errorneous predictions\")\n",
    "# print(np.array(test_filenames)[wrong_idx])\n",
    "\n",
    "# und_idx = (test_classes[:,0] == 0)\n",
    "# dis_idx = (test_classes[:,0] == 1)\n",
    "\n",
    "idx_sorted = np.argsort(test_values[:,0])\n",
    "\n",
    "fig1 = plt.figure(figsize=(12,8))\n",
    "plt.plot(test_values[idx_sorted,0]*max_dist_value,\"b.\",label=\"actual values\")\n",
    "plt.plot(predicted_values[idx_sorted]*max_dist_value,\"ro\",label=\"predicted values\")\n",
    "plt.title(\"Predicted and Actual Distortion Values\")\n",
    "plt.legend()\n",
    "plt.show()\n",
    "\n",
    "\n",
    "fig1 = plt.figure(figsize=(12,8))\n",
    "plt.plot((predicted_values[idx_sorted] - test_values[idx_sorted,0])*max_dist_value,\"b.\",label=\"error\")\n",
    "# plt.plot(predicted_values*max_dist_value,\"ro\",label=\"predicted values\")\n",
    "plt.title(\"Prediction Error\")\n",
    "plt.legend()\n",
    "plt.show()\n",
    "\n",
    "# print(f\"True negatives: {np.sum((predicted_class == 0))} / {np.sum((test_labels[:,0] == 0))}\")\n",
    "# print(f\"True positives: {np.sum((predicted_class == 1))} / {np.sum((test_labels[:,0] == 1))}\")\n",
    "\n",
    "# print(f\"True negatives: {np.sum((predicted_class[und_idx] == 0))} / {np.sum((test_classes[:,0] == 0))}\")\n",
    "# print(f\"True positives: {np.sum((predicted_class[dis_idx] == 1))} / {np.sum((test_classes[:,0] == 1))}\")\n",
    "# print(f\"False negatives: {np.sum((predicted_class[dis_idx] == 0))} / {np.sum((test_classes[:,0] == 1))}\")\n",
    "# print(f\"False positives: {np.sum((predicted_class[und_idx] == 1))} / {np.sum((test_classes[:,0] == 0))}\")\n",
    "\n",
    "# conf_matrix = np.zeros((4,4))\n",
    "# for k1 in range(0,4):\n",
    "#     for k2 in range(0,4):\n",
    "#         conf_matrix[k1,k2] = np.sum(np.where((predicted_class == k2) == (test_classes[k1]))\n",
    "\n",
    "# conf_matrix = np.zeros((2,2))\n",
    "# conf_matrix[0,0] = np.sum((predicted_class[und_idx] == 0))\n",
    "# conf_matrix[0,1] = np.sum((predicted_class[und_idx] == 1))\n",
    "# conf_matrix[1,0] = np.sum((predicted_class[dis_idx] == 0))\n",
    "# conf_matrix[1,1] = np.sum((predicted_class[dis_idx] == 1))\n",
    "\n",
    "# # plot the confusion matrix using Matplotlib\n",
    "# fig, ax = plt.subplots(figsize=(8, 8))\n",
    "# ax.matshow(conf_matrix, cmap=plt.cm.Blues, alpha=0.3)\n",
    "# for k1 in range(conf_matrix.shape[0]):\n",
    "#     for k2 in range(conf_matrix.shape[1]):\n",
    "#         ax.text(x=k2, y=k1, s=conf_matrix[k1, k2], va='center', ha='center', size='xx-large')\n",
    "\n",
    "# plt.xlabel('Predicted Values', fontsize=18)\n",
    "# plt.ylabel('Actual Values', fontsize=18)\n",
    "# plt.title('Confusion Matrix', fontsize=18)\n",
    "# plt.show()\n"
   ]
  },
  {
   "cell_type": "code",
   "execution_count": null,
   "metadata": {},
   "outputs": [],
   "source": [
    "\n",
    "# model_01.save('./Saved_Models/Model_Distortion_Coefficient_320x240_6x6_MSE_128_20230105')\n"
   ]
  },
  {
   "cell_type": "code",
   "execution_count": null,
   "metadata": {},
   "outputs": [],
   "source": []
  }
 ],
 "metadata": {
  "accelerator": "GPU",
  "colab": {
   "collapsed_sections": [],
   "name": "cnn.ipynb",
   "toc_visible": true
  },
  "kernelspec": {
   "display_name": "Python 3 (ipykernel)",
   "language": "python",
   "name": "python3"
  },
  "language_info": {
   "codemirror_mode": {
    "name": "ipython",
    "version": 3
   },
   "file_extension": ".py",
   "mimetype": "text/x-python",
   "name": "python",
   "nbconvert_exporter": "python",
   "pygments_lexer": "ipython3",
   "version": "3.10.8"
  }
 },
 "nbformat": 4,
 "nbformat_minor": 4
}
