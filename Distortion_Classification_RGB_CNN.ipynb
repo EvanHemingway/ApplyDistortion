{
 "cells": [
  {
   "cell_type": "markdown",
   "metadata": {
    "id": "x4HI2mpwlrcn"
   },
   "source": [
    "##### Copyright 2019 The TensorFlow Authors."
   ]
  },
  {
   "cell_type": "code",
   "execution_count": null,
   "metadata": {
    "cellView": "form",
    "id": "679Lmwt3l1Bk",
    "tags": []
   },
   "outputs": [],
   "source": [
    "#@title Licensed under the Apache License, Version 2.0 (the \"License\");\n",
    "# you may not use this file except in compliance with the License.\n",
    "# You may obtain a copy of the License at\n",
    "#\n",
    "# https://www.apache.org/licenses/LICENSE-2.0\n",
    "#\n",
    "# Unless required by applicable law or agreed to in writing, software\n",
    "# distributed under the License is distributed on an \"AS IS\" BASIS,\n",
    "# WITHOUT WARRANTIES OR CONDITIONS OF ANY KIND, either express or implied.\n",
    "# See the License for the specific language governing permissions and\n",
    "# limitations under the License."
   ]
  },
  {
   "cell_type": "markdown",
   "metadata": {
    "id": "DSPCom-KmApV"
   },
   "source": [
    "# Convolutional Neural Network (CNN)"
   ]
  },
  {
   "cell_type": "markdown",
   "metadata": {
    "id": "klAltGp8ycek"
   },
   "source": [
    "<table class=\"tfo-notebook-buttons\" align=\"left\">\n",
    "  <td>\n",
    "    <a target=\"_blank\" href=\"https://www.tensorflow.org/tutorials/images/cnn\">\n",
    "    <img src=\"https://www.tensorflow.org/images/tf_logo_32px.png\" />\n",
    "    View on TensorFlow.org</a>\n",
    "  </td>\n",
    "  <td>\n",
    "    <a target=\"_blank\" href=\"https://colab.research.google.com/github/tensorflow/docs/blob/master/site/en/tutorials/images/cnn.ipynb\">\n",
    "    <img src=\"https://www.tensorflow.org/images/colab_logo_32px.png\" />\n",
    "    Run in Google Colab</a>\n",
    "  </td>\n",
    "  <td>\n",
    "    <a target=\"_blank\" href=\"https://github.com/tensorflow/docs/blob/master/site/en/tutorials/images/cnn.ipynb\">\n",
    "    <img src=\"https://www.tensorflow.org/images/GitHub-Mark-32px.png\" />\n",
    "    View source on GitHub</a>\n",
    "  </td>\n",
    "  <td>\n",
    "    <a href=\"https://storage.googleapis.com/tensorflow_docs/docs/site/en/tutorials/images/cnn.ipynb\"><img src=\"https://www.tensorflow.org/images/download_logo_32px.png\" />Download notebook</a>\n",
    "  </td>\n",
    "</table>"
   ]
  },
  {
   "cell_type": "markdown",
   "metadata": {
    "id": "qLGkt5qiyz4E"
   },
   "source": [
    "This tutorial demonstrates training a simple [Convolutional Neural Network](https://developers.google.com/machine-learning/glossary/#convolutional_neural_network) (CNN) to classify [CIFAR images](https://www.cs.toronto.edu/~kriz/cifar.html). Because this tutorial uses the [Keras Sequential API](https://www.tensorflow.org/guide/keras/overview), creating and training your model will take just a few lines of code.\n"
   ]
  },
  {
   "cell_type": "markdown",
   "metadata": {
    "id": "m7KBpffWzlxH"
   },
   "source": [
    "### Import TensorFlow"
   ]
  },
  {
   "cell_type": "code",
   "execution_count": null,
   "metadata": {
    "id": "iAve6DCL4JH4",
    "tags": []
   },
   "outputs": [],
   "source": [
    "import tensorflow as tf\n",
    "\n",
    "from tensorflow.keras import datasets, layers, models\n",
    "import matplotlib.pyplot as plt\n",
    "\n",
    "from PIL import Image\n",
    "import os\n",
    "\n",
    "import numpy as np\n",
    "\n",
    "import fnmatch\n"
   ]
  },
  {
   "cell_type": "markdown",
   "metadata": {
    "id": "jRFxccghyMVo"
   },
   "source": [
    "### Download and prepare the CIFAR10 dataset\n",
    "\n",
    "\n",
    "The CIFAR10 dataset contains 60,000 color images in 10 classes, with 6,000 images in each class. The dataset is divided into 50,000 training images and 10,000 testing images. The classes are mutually exclusive and there is no overlap between them."
   ]
  },
  {
   "cell_type": "code",
   "execution_count": null,
   "metadata": {},
   "outputs": [],
   "source": [
    "# Load images into arrays and create labels\n",
    "\n",
    "filenames = []\n",
    "\n",
    "image_width = 240\n",
    "image_height = 320\n",
    "\n",
    "# directory\n",
    "dir_path = 'Training Set BW 1000'\n",
    "\n",
    "N_im = len(fnmatch.filter(os.listdir(dir_path), '*.*'))\n",
    "\n",
    "N_pp = len(fnmatch.filter(os.listdir(dir_path), '*perfPersp.*'))\n",
    "print(f'Total images: {N_im} | Number of undistorted images: {N_pp} | Number of distorted images: {N_im - N_pp}')\n",
    "\n",
    "\n",
    "all_distortion_images = np.zeros((N_im,image_width,image_height,3)) # array of GS values for images [N x width x height]\n",
    "\n",
    "all_distortion_labels = np.zeros(N_im,dtype=int) # array of labels for images denoting if they are distorted. 0 = not distorted, 1 = distored\n",
    "\n",
    "all_distortion_values = np.zeros(N_im) # array of distortion coefficients\n",
    "\n",
    "filenames = [] # list of filenames\n",
    "\n",
    "remove_idx = [] # list of indexes to remove\n",
    "\n",
    "\n",
    "# iterate over files in directory\n",
    "for kf, filename1 in enumerate(os.listdir(dir_path)):\n",
    "    f1 = os.path.join(dir_path, filename1)\n",
    "    # check if file is valid\n",
    "    if os.path.isfile(f1) and \".jpg\" in f1:\n",
    "        filenames.append(filename1)\n",
    "        # load image\n",
    "        img = Image.open(f1)\n",
    "        # convert to numpy array\n",
    "        img_array = np.asarray(img)/255\n",
    "        # print(img_array.shape)\n",
    "        \n",
    "        if img_array.ndim == 2:\n",
    "            if img_array.shape[0] == all_distortion_images.shape[1] and img_array.shape[1] == all_distortion_images.shape[2]:\n",
    "                all_distortion_images[kf,:,:] =  img_array.reshape((1,img_array.shape[0],img_array.shape[1])) # reshape to 1 x width x height\n",
    "            else:\n",
    "                remove_idx.append(f\"test01: {kf}\")\n",
    "        if img_array.ndim == 3:\n",
    "            if img_array.shape[0] == all_distortion_images.shape[1] and img_array.shape[1] == all_distortion_images.shape[2] and img_array.shape[2] == all_distortion_images.shape[3]:\n",
    "                all_distortion_images[kf,:,:,:] =  img_array.reshape((1,img_array.shape[0],img_array.shape[1],img_array.shape[2],1)) # reshape to 1 x width x height\n",
    "            else:\n",
    "                remove_idx.append(f\"test02: {kf}\")\n",
    "        \n",
    "        # if \"perfPersp\" not in filename1:\n",
    "        if \"perfPersp\" not in filename1:\n",
    "            all_distortion_labels[kf] = 1 # label image as distorted\n",
    "            # parse filename to obtain distortion coefficient\n",
    "            distortion_value = int(filename1.split(\".\")[0].split(\"_\")[1]) / 10**int(len(filename1.split(\".\")[0].split(\"_\")[1]))\n",
    "            all_distortion_values[kf] = distortion_value\n",
    "        # else, image is not distored\n",
    "        else:\n",
    "            all_distortion_labels[kf] = 0 # label image as undistorted\n",
    "            all_distortion_values[kf] = 0 # distortion coefficient\n",
    "    else:\n",
    "        remove_idx.append(kf)\n",
    "\n",
    "\n",
    "all_distortion_labels = all_distortion_labels.reshape(-1,1) # reshape to 2D array\n",
    "\n",
    "all_distortion_values = all_distortion_values.reshape(-1,1) # reshape to 2D array\n",
    "\n",
    "# all_distortion_images.shape\n",
    "\n",
    "# all_distortion_labels.shape\n",
    "\n",
    "# all_distortion_values.shape\n",
    "\n",
    "remove_idx\n",
    "\n"
   ]
  },
  {
   "cell_type": "code",
   "execution_count": null,
   "metadata": {},
   "outputs": [],
   "source": [
    "# split data into train and test data\n",
    "\n",
    "np.random.seed(42) # set random seed\n",
    "\n",
    "idx = np.random.permutation(all_distortion_images.shape[0]) # get permutation \n",
    "\n",
    "idx_train = idx[0:40] # training indices\n",
    "idx_test = idx[40:] # test indices\n",
    "\n",
    "# print(idx_train)\n",
    "# print(idx_test)\n",
    "\n",
    "# split all data and labels into training and test sets\n",
    "train_images = all_distortion_images[idx_train,:,:,:]\n",
    "\n",
    "test_images = all_distortion_images[idx_test,:,:,:]\n",
    "\n",
    "train_labels = all_distortion_labels[idx_train]\n",
    "\n",
    "test_labels = all_distortion_labels[idx_test]\n",
    "\n",
    "train_values = all_distortion_values[idx_train]\n",
    "\n",
    "test_values = all_distortion_values[idx_test]\n",
    "\n",
    "# train_filenames = [filenames[idx_train[k1]] for k1 in range(0,len(idx_train))]\n",
    "# test_filenames = [filenames[idx_test[k1]] for k1 in range(0,len(idx_test))]\n",
    "\n",
    "train_filenames = [filenames[idx] for idx in idx_train]\n",
    "test_filenames = [filenames[idx] for idx in idx_test]\n",
    "\n",
    "print(train_labels[:,0].T)\n",
    "\n",
    "print(test_labels[:,0].T)\n",
    "\n",
    "print(train_values[:,0].T)\n",
    "\n",
    "print(test_values[:,0].T)\n"
   ]
  },
  {
   "cell_type": "markdown",
   "metadata": {
    "id": "7wArwCTJJlUa"
   },
   "source": [
    "### Verify the data\n",
    "\n",
    "To verify that the dataset looks correct, let's plot the first 25 images from the training set and display the class name below each image:\n"
   ]
  },
  {
   "cell_type": "code",
   "execution_count": null,
   "metadata": {},
   "outputs": [],
   "source": [
    "class_names = ['undistorted', 'distorted']\n",
    "\n",
    "plt.figure(figsize=(18,24))\n",
    "for k1 in range(0,24):\n",
    "    plt.subplot(6,4,k1+1)\n",
    "    plt.xticks([])\n",
    "    plt.yticks([])\n",
    "    plt.grid(False)\n",
    "    plt.imshow(train_images[k1])\n",
    "    # The CIFAR labels happen to be arrays, \n",
    "    # which is why you need the extra index\n",
    "    plt.xlabel(f\"{filenames[idx_train[k1]]} : {class_names[train_labels[k1,0]]}\")\n",
    "plt.show()\n"
   ]
  },
  {
   "cell_type": "markdown",
   "metadata": {
    "id": "Oewp-wYg31t9"
   },
   "source": [
    "### Create the convolutional base"
   ]
  },
  {
   "cell_type": "markdown",
   "metadata": {
    "id": "3hQvqXpNyN3x"
   },
   "source": [
    "The 6 lines of code below define the convolutional base using a common pattern: a stack of [Conv2D](https://www.tensorflow.org/api_docs/python/tf/keras/layers/Conv2D) and [MaxPooling2D](https://www.tensorflow.org/api_docs/python/tf/keras/layers/MaxPool2D) layers.\n",
    "\n",
    "As input, a CNN takes tensors of shape (image_height, image_width, color_channels), ignoring the batch size. If you are new to these dimensions, color_channels refers to (R,G,B). In this example, you will configure your CNN to process inputs of shape (32, 32, 3), which is the format of CIFAR images. You can do this by passing the argument `input_shape` to your first layer.\n"
   ]
  },
  {
   "cell_type": "code",
   "execution_count": null,
   "metadata": {
    "id": "L9YmGQBQPrdn",
    "tags": []
   },
   "outputs": [],
   "source": [
    "# Create first model\n",
    "\n",
    "model_01 = models.Sequential()\n",
    "model_01.add(layers.Conv2D(32, (3, 3), activation='relu', input_shape=(480, 640, 3)))\n",
    "model_01.add(layers.MaxPooling2D((2, 2)))\n",
    "model_01.add(layers.Conv2D(64, (3, 3), activation='relu'))\n",
    "model_01.add(layers.MaxPooling2D((2, 2)))\n",
    "model_01.add(layers.Conv2D(64, (3, 3), activation='relu'))\n",
    "\n",
    "model_01.add(layers.Flatten())\n",
    "model_01.add(layers.Dense(64, activation='relu'))\n",
    "model_01.add(layers.Dense(2, activation='linear'))\n",
    "# model_01.add(layers.Dense(1, activation='sigmoid'))\n",
    "\n",
    "model_01.summary()\n"
   ]
  },
  {
   "cell_type": "code",
   "execution_count": null,
   "metadata": {
    "id": "8-C4XBg4UTJy",
    "tags": []
   },
   "outputs": [],
   "source": [
    "# Compile and train first model\n",
    "\n",
    "# compile model\n",
    "model_01.compile(optimizer='adam', loss=tf.keras.losses.SparseCategoricalCrossentropy(from_logits=True), metrics=['accuracy'])\n",
    "\n",
    "# train model\n",
    "history = model_01.fit(train_images, train_labels, epochs=10, validation_data=(test_images, test_labels))\n"
   ]
  },
  {
   "cell_type": "markdown",
   "metadata": {
    "id": "jKgyC5K_4O0d"
   },
   "source": [
    "### Evaluate the model"
   ]
  },
  {
   "cell_type": "code",
   "execution_count": null,
   "metadata": {},
   "outputs": [],
   "source": [
    "# dir(history.history)"
   ]
  },
  {
   "cell_type": "code",
   "execution_count": null,
   "metadata": {
    "id": "gtyDF0MKUcM7",
    "tags": []
   },
   "outputs": [],
   "source": [
    "#\n",
    "\n",
    "fig1 = plt.figure(figsize=(12,6))\n",
    "# plt.plot(history.epoch,0.6*np.ones(len(history.epoch)),'k--')\n",
    "# plt.plot(history.epoch,0.7*np.ones(len(history.epoch)),'k--')\n",
    "# plt.plot(history.epoch,0.8*np.ones(len(history.epoch)),'k--')\n",
    "# plt.plot(history.epoch,0.9*np.ones(len(history.epoch)),'k--')\n",
    "# plt.plot(history.epoch,1.0*np.ones(len(history.epoch)),'k--')\n",
    "plt.plot(history.history['accuracy'], label='train accuracy')\n",
    "plt.plot(history.history['val_accuracy'], label = 'test accuracy')\n",
    "plt.xlabel('Epoch')\n",
    "plt.ylabel('Accuracy')\n",
    "plt.ylim([0.2, 1.2])\n",
    "plt.grid()\n",
    "plt.legend(loc='lower right')\n",
    "\n",
    "test_loss, test_acc = model_01.evaluate(test_images, test_labels, verbose=2)\n"
   ]
  },
  {
   "cell_type": "code",
   "execution_count": null,
   "metadata": {},
   "outputs": [],
   "source": [
    "k1 = 1\n",
    "\n",
    "fig1 = plt.figure(figsize=(8,8))\n",
    "plt.imshow(test_images[k1])\n",
    "plt.xlabel(class_names[test_labels[k1,0]])\n",
    "plt.show()"
   ]
  },
  {
   "cell_type": "code",
   "execution_count": null,
   "metadata": {},
   "outputs": [],
   "source": [
    "# Look at output of model\n",
    "\n",
    "model_01.predict(test_images)\n",
    "\n",
    "# model.predict(train_images)\n",
    "\n",
    "# print(test_labels)"
   ]
  },
  {
   "cell_type": "code",
   "execution_count": null,
   "metadata": {},
   "outputs": [],
   "source": [
    "# Look at output of model for single image\n",
    "\n",
    "kim = 1\n",
    "\n",
    "print(model_01.predict(test_images[kim].reshape(1,480,640,3))[0])\n",
    "\n",
    "print(np.argmax(model_01.predict(test_images[kim].reshape(1,480,640,3))))\n",
    "\n",
    "print(class_names[np.argmax(model_01.predict(test_images[kim].reshape(1,480,640,3)))])\n",
    "\n",
    "print(class_names[test_labels[k1,0]])"
   ]
  },
  {
   "cell_type": "code",
   "execution_count": null,
   "metadata": {},
   "outputs": [],
   "source": [
    "# Validate model accuracy\n",
    "\n",
    "# model prediction from test_images\n",
    "prediction = model_01.predict(test_images)\n",
    "print(prediction)\n",
    "\n",
    "# apply classification using argmax to 0 or 1\n",
    "predicted_class = np.argmax(prediction, axis=1)\n",
    "\n",
    "print(\"Predicted classes for test images:\")\n",
    "print(predicted_class)\n",
    "\n",
    "print(\"Test image labels:\")\n",
    "print(test_labels[:,0].T)\n",
    "\n",
    "print(f\"Number of correct predictions out of number of test images: {np.sum(predicted_class == test_labels[:,0])} / {len(test_labels)}\")\n",
    "# np.sum(predicted_class == test_labels)\n",
    "\n",
    "print(f\"Model accuracy on test images: {np.sum(predicted_class == test_labels[:,0]) / len(test_labels)}\")"
   ]
  },
  {
   "cell_type": "code",
   "execution_count": null,
   "metadata": {},
   "outputs": [],
   "source": []
  },
  {
   "cell_type": "code",
   "execution_count": null,
   "metadata": {},
   "outputs": [],
   "source": [
    "# np.argmax(model.predict(test_images),axis=1)\n",
    "\n",
    "# test_labels.reshape(-1,)\n",
    "\n",
    "# np.argmax(model.predict(test_images),axis=1)\n",
    "\n",
    "\n",
    "# test_labels.reshape(-1,) == np.argmax(model.predict(test_images),axis=1)\n",
    "\n",
    "# sum(test_labels.reshape(-1,) == np.argmax(model.predict(test_images),axis=1))\n",
    "\n",
    "# sum(test_labels.reshape(-1,) == np.argmax(model.predict(test_images),axis=1)) / test_labels.shape[0]"
   ]
  },
  {
   "cell_type": "code",
   "execution_count": null,
   "metadata": {},
   "outputs": [],
   "source": [
    "# Create second model\n",
    "\n",
    "model_02 = models.Sequential()\n",
    "model_02.add(layers.Conv2D(32, (3, 3), activation='relu', input_shape=(480, 640, 3)))\n",
    "model_02.add(layers.MaxPooling2D((2, 2)))\n",
    "model_02.add(layers.Conv2D(64, (3, 3), activation='relu'))\n",
    "model_02.add(layers.MaxPooling2D((2, 2)))\n",
    "model_02.add(layers.Conv2D(64, (3, 3), activation='relu'))\n",
    "\n",
    "model_02 = models.Sequential()\n",
    "model_02.add(layers.Conv2D(32, (6, 6), activation='relu', input_shape=(480, 640, 3)))\n",
    "model_02.add(layers.MaxPooling2D((2, 2)))\n",
    "model_02.add(layers.Conv2D(64, (6, 6), activation='relu'))\n",
    "model_02.add(layers.MaxPooling2D((2, 2)))\n",
    "model_02.add(layers.Conv2D(64, (6, 6), activation='relu'))\n",
    "\n",
    "model_02.add(layers.Flatten())\n",
    "model_02.add(layers.Dense(64, activation='relu'))\n",
    "# model_02.add(layers.Dense(2))\n",
    "model_02.add(layers.Dense(1, activation='sigmoid'))\n",
    "\n",
    "model_02.summary()"
   ]
  },
  {
   "cell_type": "code",
   "execution_count": null,
   "metadata": {},
   "outputs": [],
   "source": [
    "# Compile and train second model\n",
    "\n",
    "# compile model\n",
    "model_02.compile(optimizer='adam', loss=tf.keras.losses.BinaryCrossentropy(from_logits=False), metrics=['accuracy'])\n",
    "\n",
    "# train model\n",
    "history = model_02.fit(train_images, train_labels, epochs=10, validation_data=(test_images, test_labels))\n"
   ]
  },
  {
   "cell_type": "code",
   "execution_count": null,
   "metadata": {},
   "outputs": [],
   "source": [
    "# Look at output of model \n",
    "\n",
    "model_02.predict(test_images)\n",
    "\n",
    "# model.predict(train_images)\n",
    "\n",
    "# print(test_labels)"
   ]
  },
  {
   "cell_type": "code",
   "execution_count": null,
   "metadata": {},
   "outputs": [],
   "source": [
    "# Look at output of model for single image\n",
    "\n",
    "kim = 1\n",
    "\n",
    "print(model_02.predict(test_images[kim].reshape(1,480,640,3))[0])\n",
    "\n",
    "print((model_02.predict(test_images[kim].reshape(1,480,640,3))) >= 0.5)\n",
    "\n",
    "print(class_names[np.argmax(model_01.predict(test_images[kim].reshape(1,480,640,3)))])\n",
    "\n",
    "print(class_names[test_labels[k1,0]])"
   ]
  },
  {
   "cell_type": "code",
   "execution_count": null,
   "metadata": {},
   "outputs": [],
   "source": [
    "# Validate model accuracy\n",
    "\n",
    "# model prediction from test_images\n",
    "prediction = model_02.predict(test_images)\n",
    "print(\"Model prediction for test images:\")\n",
    "print(prediction[:,0].T)\n",
    "\n",
    "# apply classification using argmax to 0 or 1\n",
    "# print(\"Model prediction for test images, applying sigmoid classification:\")\n",
    "predicted_class = np.array(prediction >= 0.5, dtype=int)\n",
    "\n",
    "print(\"Predicted classes for test images:\")\n",
    "print(predicted_class[:,0].T)\n",
    "\n",
    "print(\"Test image labels:\")\n",
    "print(test_labels[:,0].T)\n",
    "\n",
    "print(f\"Number of correct predictions out of number of test images: {np.sum(predicted_class[:,0] == test_labels[:,0])} / {len(test_labels)}\")\n",
    "# np.sum(predicted_class == test_labels)\n",
    "\n",
    "print(f\"Model accuracy on test images: {np.sum(predicted_class[:,0] == test_labels[:,0]) / len(test_labels)}\")"
   ]
  },
  {
   "cell_type": "code",
   "execution_count": null,
   "metadata": {},
   "outputs": [],
   "source": []
  }
 ],
 "metadata": {
  "accelerator": "GPU",
  "colab": {
   "collapsed_sections": [],
   "name": "cnn.ipynb",
   "toc_visible": true
  },
  "kernelspec": {
   "display_name": "Python 3 (ipykernel)",
   "language": "python",
   "name": "python3"
  },
  "language_info": {
   "codemirror_mode": {
    "name": "ipython",
    "version": 3
   },
   "file_extension": ".py",
   "mimetype": "text/x-python",
   "name": "python",
   "nbconvert_exporter": "python",
   "pygments_lexer": "ipython3",
   "version": "3.10.8"
  }
 },
 "nbformat": 4,
 "nbformat_minor": 4
}
